{
 "cells": [
  {
   "cell_type": "markdown",
   "metadata": {},
   "source": [
    "# Automated Question-Answer Generation from Pharmaceutical Data\n",
    "\n",
    "This notebook systematically generates question-answer pairs from pharmaceutical data sources including:\n",
    "1. PubMed target passages\n",
    "2. DrugBank tables\n",
    "3. Related pharmaceutical data\n",
    "\n",
    "Each QA pair will include:\n",
    "- Question\n",
    "- Answer\n",
    "- Source text/passage\n",
    "- Related table"
   ]
  },
  {
   "cell_type": "code",
   "execution_count": 1,
   "metadata": {},
   "outputs": [],
   "source": [
    "# Import required libraries\n",
    "import os\n",
    "import pandas as pd\n",
    "import json\n",
    "from pathlib import Path\n",
    "from openai import OpenAI\n",
    "import csv\n",
    "from tqdm import tqdm\n",
    "from collections import defaultdict"
   ]
  },
  {
   "cell_type": "code",
   "execution_count": 8,
   "metadata": {},
   "outputs": [],
   "source": [
    "# Configuration and paths\n",
    "PUBMED_TARGETS_DIR = '../data/Pharma/pubmed-targets'\n",
    "DRUGBANK_TABLES_DIR = '../data/Pharma/drugbank-tables'\n",
    "MAPPING_FILE = '../data/Pharma/pubmed-drugbank-tables.gt'\n",
    "OUTPUT_FILE = 'table_output.gt'\n",
    "\n",
    "# Initialize your LLM API key if needed\n",
    "# os.environ[\"OPENAI_API_KEY\"]=\"<KEY>\"\n",
    "client = OpenAI()\n"
   ]
  },
  {
   "cell_type": "code",
   "execution_count": 9,
   "metadata": {},
   "outputs": [],
   "source": [
    "def load_passage_table_mapping():\n",
    "    \"\"\"Load the mapping between passages and their relevant tables\"\"\"\n",
    "    mapping = defaultdict(list)\n",
    "    with open(MAPPING_FILE, 'r') as f:\n",
    "        for line in f:\n",
    "            passage_id, table_name = line.strip().split(',')\n",
    "            mapping[passage_id].append(table_name)\n",
    "    # print(\"mapping\", mapping)\n",
    "    return mapping\n",
    "\n",
    "def load_target_passages():\n",
    "    \"\"\"Load all target passages from the pubmed-targets directory\"\"\"\n",
    "    passages = {}\n",
    "    target_files = Path(PUBMED_TARGETS_DIR).glob('Target-*')\n",
    "    \n",
    "    for file_path in target_files:\n",
    "        target_id = file_path.name\n",
    "        with open(file_path, 'r') as f:\n",
    "            passages[target_id] = f.read()\n",
    "    # print(\"passages\", passages)\n",
    "    return passages\n",
    "\n",
    "def load_drugbank_tables():\n",
    "    \"\"\"Load all relevant DrugBank tables\"\"\"\n",
    "    tables = {}\n",
    "    csv_files = Path(DRUGBANK_TABLES_DIR).glob('*.csv')\n",
    "    \n",
    "    for file_path in csv_files:\n",
    "        table_name = file_path.stem\n",
    "        tables[table_name] = pd.read_csv(file_path)\n",
    "    \n",
    "    # print(\"tables\", tables)\n",
    "    return tables"
   ]
  },
  {
   "cell_type": "code",
   "execution_count": 36,
   "metadata": {},
   "outputs": [],
   "source": [
    "def get_relevant_table_content(table_id, table_content, max_rows=5):\n",
    "    # \"\"\"Extract relevant content from tables for context\"\"\"\n",
    "    # print(\"Debug - Available tables:\", tables.keys())\n",
    "    # print(\"Debug - Looking for table_names:\", table_names)\n",
    "\n",
    "    total_max_rows = 500\n",
    "    max_rows_per_table = 500\n",
    "    table_content = {}\n",
    "    remaining_rows = total_max_rows\n",
    "    valid_tables = [name.replace('.csv', '') for name in table_names if name.replace('.csv', '') in tables]\n",
    "    \n",
    "    # Calculate rows per table based on available tables\n",
    "    if valid_tables:\n",
    "        rows_per_table = min(max_rows_per_table, remaining_rows // len(valid_tables))\n",
    "    else:\n",
    "        rows_per_table = 0\n",
    "\n",
    "    table_content = {}\n",
    "    for table_name in table_names:\n",
    "        # Remove .csv extension if present\n",
    "        base_table_name = table_name.replace('.csv', '')\n",
    "        \n",
    "        if base_table_name in tables:\n",
    "            df = tables[base_table_name]\n",
    "            \n",
    "            # Take fewer rows for large tables\n",
    "            rows_to_take = min(rows_per_table, len(df))\n",
    "            \n",
    "            table_content[base_table_name] = {\n",
    "                'columns': list(df.columns),\n",
    "                'data': df.head(rows_to_take).to_dict('records'),\n",
    "                'total_rows': len(df)  # Include total row count for reference\n",
    "            }\n",
    "            \n",
    "            remaining_rows -= rows_to_take\n",
    "        else:\n",
    "            print(f\"Debug - Table '{base_table_name}' not found in available tables\")\n",
    "    return table_content\n",
    "\n",
    "def generate_questions_for_table(table_id, table_content, model=\"gpt-4o\"):\n",
    "    \"\"\"Generate questions for a given passage and its relevant tables using LLM\"\"\"\n",
    "\n",
    "    # print(\"tables\", tables)\n",
    "    # print(\"relevant_table_names\", relevant_table_names)\n",
    "    \n",
    "    # Limit passage length if too long (e.g., first 1000 characters)\n",
    "    # passage_text = passage_text[:1000] + \"...\" if len(passage_text) > 1000 else passage_text\n",
    "    \n",
    "    # # Limit to maximum 3 relevant tables\n",
    "    # relevant_table_names = relevant_table_names[:1]\n",
    "    \n",
    "    # # Get relevant table content\n",
    "    # table_content = get_relevant_table_content(table_id, table_content)\n",
    "    \n",
    "    df = table_content\n",
    "            \n",
    "    # Instead of fixed row count, adaptively limit content based on estimated token size\n",
    "    max_tokens = 10000  # Conservative estimate of available tokens for table content\n",
    "    \n",
    "    # Function to estimate tokens in a row (rough approximation: ~4 chars per token)\n",
    "    def estimate_row_tokens(row):\n",
    "        row_str = str(row.to_dict())\n",
    "        return len(row_str) // 4\n",
    "    \n",
    "    # Sample a few rows to estimate average row size\n",
    "    sample_size = min(5, len(df))\n",
    "    if sample_size > 0:\n",
    "        sample_rows = df.sample(sample_size) if len(df) > 5 else df\n",
    "        avg_tokens_per_row = sum(estimate_row_tokens(row) for _, row in sample_rows.iterrows()) // sample_size\n",
    "        \n",
    "        # Calculate how many rows we can include\n",
    "        rows_to_take = min(max_tokens // max(1, avg_tokens_per_row), len(df))\n",
    "        \n",
    "        # Take at least 5 rows but no more than 100 (as a reasonable default)\n",
    "        rows_to_take = max(5, min(100, rows_to_take))\n",
    "    else:\n",
    "        rows_to_take = 0\n",
    "    \n",
    "    formatted_table_content = {\n",
    "        'table_name': table_id,\n",
    "        'columns': list(df.columns),\n",
    "        'data': df.head(rows_to_take).to_dict('records'),\n",
    "        'total_rows': len(df)  # Include total row count for reference\n",
    "    }\n",
    "    \n",
    "    prompt = f\"\"\"\n",
    "    Given the following passage and related tables, generate 2 meaningful question-answer pairs.\n",
    "    IMPORTANT: Each question MUST be answerable using information from ONLY the tables.\n",
    "    Only generate questions that require information from the tables. Try and make the question as difficult and technical as possible.\n",
    "    \n",
    "    You are a pharmaceutical educator creating realistic questions that a medical student, pharmacist, or healthcare professional might ask. Focus on clinically relevant information such as:\n",
    "    - Drug mechanisms, indications, and therapeutic uses\n",
    "    - Dosing considerations and administration routes\n",
    "    - Side effects and contraindications\n",
    "    - Drug interactions and pharmacological properties\n",
    "    \n",
    "    AVOID generating questions about:\n",
    "    - Database-specific information (primary keys, IDs, URLs)\n",
    "    - Technical metadata that wouldn't be useful in clinical practice\n",
    "    - Questions that simply ask to list information without clinical context\n",
    "    \n",
    "    Examples of BAD questions to AVOID:\n",
    "    - \"What drug is linked to the FDA label with the URL ending in '1265922800,' and what is its state?\"\n",
    "    - \"What is the primary key for the drug Denileukin diftitox, and what is its marketed mixture name?\"\n",
    "    \n",
    "    Tables:\n",
    "    {json.dumps(formatted_table_content, indent=2)}\n",
    "    \n",
    "    Generate questions in the following format:\n",
    "    1. question: [specific question about drug/treatment that would be asked in clinical practice]\n",
    "       answer: [detailed answer combining information from the tables]\n",
    "       text: None\n",
    "       table: [table name(s) if information from table was used (e.g. drugbank-drug)]\n",
    "    \n",
    "    Ensure every question is clinically relevant and would be asked by real healthcare professionals.\n",
    "    \"\"\"\n",
    "    \n",
    "    # Call your LLM here with the prompt\n",
    "    response = client.chat.completions.create(\n",
    "        model=model,\n",
    "        messages=[\n",
    "            {\"role\": \"system\", \"content\": \"You are a medical and pharmaceutical expert tasked with generating detailed question-answer pairs about drugs and treatments.\"},\n",
    "            {\"role\": \"user\", \"content\": prompt}\n",
    "        ],\n",
    "        temperature=0.7\n",
    "    )\n",
    "\n",
    "    print(response.choices[0].message.content)\n",
    "    \n",
    "    # Parse the response into structured QA pairs\n",
    "    qa_pairs = parse_llm_response(response.choices[0].message.content)\n",
    "    return qa_pairs\n",
    "\n",
    "def parse_llm_response(response_text):\n",
    "    \"\"\"Parse the LLM response into structured QA pairs\"\"\"\n",
    "    qa_pairs = []\n",
    "    \n",
    "    # Split the response into individual QA entries\n",
    "    entries = response_text.strip().split('\\n\\n')\n",
    "    \n",
    "    for entry in entries:\n",
    "        if not entry.strip():\n",
    "            continue\n",
    "            \n",
    "        lines = entry.strip().split('\\n')\n",
    "        current_qa = {\n",
    "            'question': '',\n",
    "            'answer': '',\n",
    "            'text': 'None',\n",
    "            'table': ''  # Default value\n",
    "        }\n",
    "        \n",
    "        for line in lines:\n",
    "            line = line.strip()\n",
    "            # Skip empty lines and numbering\n",
    "            if not line or line.replace('.', '').strip().isdigit():\n",
    "                continue\n",
    "                \n",
    "            # Parse each field using more robust splitting\n",
    "            if 'question:' in line:\n",
    "                current_qa['question'] = line.split('question:', 1)[1].strip()\n",
    "            elif 'answer:' in line:\n",
    "                current_qa['answer'] = line.split('answer:', 1)[1].strip()\n",
    "            elif 'text:' in line:\n",
    "                current_qa['text'] = line.split('text:', 1)[1].strip()\n",
    "            elif 'table:' in line:\n",
    "                table_value = line.split('table:', 1)[1].strip()\n",
    "                # Handle NA, N/A, None cases\n",
    "                current_qa['table'] = 'None' if table_value.upper() in ['NA', 'N/A', 'NONE'] else table_value\n",
    "        \n",
    "        # Only add complete QA pairs that have both question and answer\n",
    "        if current_qa['question'] and current_qa['answer']:\n",
    "            qa_pairs.append(current_qa.copy())  # Use copy to avoid reference issues\n",
    "    \n",
    "    return qa_pairs"
   ]
  },
  {
   "cell_type": "code",
   "execution_count": 37,
   "metadata": {},
   "outputs": [],
   "source": [
    "def main():\n",
    "    # Load mappings and data\n",
    "    print(\"Loading passage-table mappings...\")\n",
    "    passage_table_mapping = load_passage_table_mapping()\n",
    "    \n",
    "    print(\"Loading target passages...\")\n",
    "    passages = load_target_passages()\n",
    "    \n",
    "    print(\"Loading DrugBank tables...\")\n",
    "    tables = load_drugbank_tables()\n",
    "    \n",
    "    # Initialize output list\n",
    "    qa_pairs = []\n",
    "    \n",
    "    # Process each passage with its relevant tables\n",
    "    for table_id, table_content in tqdm(list(tables.items())[:20]):\n",
    "        \n",
    "        # print(passage_id, passage_text, tables, relevant_tables)\n",
    "        \n",
    "        # Generate QA pairs using the passage and its relevant tables\n",
    "        new_qa_pairs = generate_questions_for_table(\n",
    "            table_id,\n",
    "            table_content\n",
    "        )\n",
    "        # new_qa_pairs = []\n",
    "        print(new_qa_pairs)\n",
    "        qa_pairs.extend(new_qa_pairs)\n",
    "    \n",
    "    # Save results\n",
    "    with open(OUTPUT_FILE, 'w', newline='') as f:\n",
    "        writer = csv.writer(f, quoting=csv.QUOTE_ALL)\n",
    "        writer.writerow(['question', 'answer', 'text', 'table'])  # header\n",
    "        for qa_pair in qa_pairs:\n",
    "            writer.writerow([\n",
    "                qa_pair['question'],\n",
    "                qa_pair['answer'],\n",
    "                qa_pair['text'],\n",
    "                qa_pair['table']\n",
    "            ])\n",
    "        \n",
    "    print(f\"Generated {len(qa_pairs)} question-answer pairs\")"
   ]
  },
  {
   "cell_type": "code",
   "execution_count": 38,
   "metadata": {},
   "outputs": [
    {
     "name": "stdout",
     "output_type": "stream",
     "text": [
      "Loading passage-table mappings...\n",
      "Loading target passages...\n",
      "Loading DrugBank tables...\n"
     ]
    },
    {
     "name": "stderr",
     "output_type": "stream",
     "text": [
      "  5%|▌         | 1/20 [00:06<02:03,  6.48s/it]"
     ]
    },
    {
     "name": "stdout",
     "output_type": "stream",
     "text": [
      "1. question: How might a healthcare professional verify the involvement of the EGFR gene in a therapeutic target using multiple scientific resources?\n",
      "   answer: A healthcare professional can verify the involvement of the EGFR gene in a therapeutic target by consulting several scientific resources. According to the table \"drugbank-targets_polypeptides_ext_id,\" the EGFR gene is associated with the parent key \"BE0000767.\" This gene can be cross-referenced through various resources such as the HUGO Gene Nomenclature Committee (HGNC) with the identifier \"HGNC:3236,\" GenAtlas with the identifier \"EGFR,\" GenBank Gene Database with the identifier \"X00588,\" GenBank Protein Database with the identifier \"757924,\" Guide to Pharmacology with the identifier \"1797,\" UniProtKB with the identifier \"P00533,\" and UniProt Accession with the identifier \"EGFR_HUMAN.\"\n",
      "   text: None\n",
      "   table: drugbank-targets_polypeptides_ext_id\n",
      "\n",
      "2. question: In the context of targeting the immune system, how could a healthcare professional use the GenBank Protein Database to identify relevant Fc gamma receptors?\n",
      "   answer: A healthcare professional can use the GenBank Protein Database to identify relevant Fc gamma receptors, which are important in targeting the immune system. According to the table \"drugbank-targets_polypeptides_ext_id,\" multiple Fc gamma receptors (FcγRs) can be identified: FCGR1A with the GenBank Protein Database identifier \"31332\" (parent key \"BE0000710\"), FCGR2A with identifier \"182474\" (parent key \"BE0002098\"), FCGR2B with identifier \"4099445\" (parent key \"BE0002099\"), FCGR2C with identifier \"32074\" (parent key \"BE0002100\"), FCGR3A with identifier \"31324\" (parent key \"BE0002097\"), and FCGR3B with identifier \"31322\" (parent key \"BE0000901\"). These identifiers allow for detailed exploration of the protein characteristics associated with each receptor.\n",
      "   text: None\n",
      "   table: drugbank-targets_polypeptides_ext_id\n",
      "[{'question': 'How might a healthcare professional verify the involvement of the EGFR gene in a therapeutic target using multiple scientific resources?', 'answer': 'A healthcare professional can verify the involvement of the EGFR gene in a therapeutic target by consulting several scientific resources. According to the table \"drugbank-targets_polypeptides_ext_id,\" the EGFR gene is associated with the parent key \"BE0000767.\" This gene can be cross-referenced through various resources such as the HUGO Gene Nomenclature Committee (HGNC) with the identifier \"HGNC:3236,\" GenAtlas with the identifier \"EGFR,\" GenBank Gene Database with the identifier \"X00588,\" GenBank Protein Database with the identifier \"757924,\" Guide to Pharmacology with the identifier \"1797,\" UniProtKB with the identifier \"P00533,\" and UniProt Accession with the identifier \"EGFR_HUMAN.\"', 'text': 'None', 'table': 'drugbank-targets_polypeptides_ext_id'}, {'question': 'In the context of targeting the immune system, how could a healthcare professional use the GenBank Protein Database to identify relevant Fc gamma receptors?', 'answer': 'A healthcare professional can use the GenBank Protein Database to identify relevant Fc gamma receptors, which are important in targeting the immune system. According to the table \"drugbank-targets_polypeptides_ext_id,\" multiple Fc gamma receptors (FcγRs) can be identified: FCGR1A with the GenBank Protein Database identifier \"31332\" (parent key \"BE0000710\"), FCGR2A with identifier \"182474\" (parent key \"BE0002098\"), FCGR2B with identifier \"4099445\" (parent key \"BE0002099\"), FCGR2C with identifier \"32074\" (parent key \"BE0002100\"), FCGR3A with identifier \"31324\" (parent key \"BE0002097\"), and FCGR3B with identifier \"31322\" (parent key \"BE0000901\"). These identifiers allow for detailed exploration of the protein characteristics associated with each receptor.', 'text': 'None', 'table': 'drugbank-targets_polypeptides_ext_id'}]\n"
     ]
    },
    {
     "name": "stderr",
     "output_type": "stream",
     "text": [
      " 10%|█         | 2/20 [00:10<01:31,  5.06s/it]"
     ]
    },
    {
     "name": "stdout",
     "output_type": "stream",
     "text": [
      "1. question: What is the cost difference between a single dose of Neulasta and a single dose of Pegasys when administered in their typical syringe and vial forms, respectively?\n",
      "   answer: The cost of Neulasta 6 mg/0.6 ml syringe is $4102.37, while the cost of Pegasys 180 mcg/ml vial is $642.64. The cost difference between a single dose of Neulasta and Pegasys, when administered in their typical forms, is $4102.37 - $642.64 = $3459.73.\n",
      "   text: None\n",
      "   table: drugbank-drug_prices\n",
      "\n",
      "2. question: If a physician prescribes a 10-day treatment using the most expensive form of Aranesp available in the database, what would be the total cost?\n",
      "   answer: The most expensive form of Aranesp is the \"Aranesp (Albumin Free) 150 mcg/0.75ml Solution (1 Box = Four 0.75ml Vials)\" which costs $3902.75 per box. Assuming a 10-day treatment requires daily administration and each box contains four 0.75ml vials (sufficient for four days), the total cost for a 10-day treatment would be 3 boxes (covering 12 days), costing 3 x $3902.75 = $11708.25.\n",
      "   text: None\n",
      "   table: drugbank-drug_prices\n",
      "[{'question': 'What is the cost difference between a single dose of Neulasta and a single dose of Pegasys when administered in their typical syringe and vial forms, respectively?', 'answer': 'The cost of Neulasta 6 mg/0.6 ml syringe is $4102.37, while the cost of Pegasys 180 mcg/ml vial is $642.64. The cost difference between a single dose of Neulasta and Pegasys, when administered in their typical forms, is $4102.37 - $642.64 = $3459.73.', 'text': 'None', 'table': 'drugbank-drug_prices'}, {'question': 'If a physician prescribes a 10-day treatment using the most expensive form of Aranesp available in the database, what would be the total cost?', 'answer': 'The most expensive form of Aranesp is the \"Aranesp (Albumin Free) 150 mcg/0.75ml Solution (1 Box = Four 0.75ml Vials)\" which costs $3902.75 per box. Assuming a 10-day treatment requires daily administration and each box contains four 0.75ml vials (sufficient for four days), the total cost for a 10-day treatment would be 3 boxes (covering 12 days), costing 3 x $3902.75 = $11708.25.', 'text': 'None', 'table': 'drugbank-drug_prices'}]\n"
     ]
    },
    {
     "name": "stderr",
     "output_type": "stream",
     "text": [
      " 15%|█▌        | 3/20 [00:14<01:15,  4.43s/it]"
     ]
    },
    {
     "name": "stdout",
     "output_type": "stream",
     "text": [
      "1. question: What are the different approved formulations and routes of administration for leuprolide acetate, and which are currently discontinued based on the provided table data?\n",
      "   answer: The different approved formulations for leuprolide acetate include Lupron Depot (depot suspension), Lupron Depot-Ped (depot suspension), Fensolvi (suspension), and Eligard (suspension). Lupron (leuprolide) injection is noted as discontinued. The routes of administration for these products are primarily depot suspensions, indicating intramuscular or subcutaneous routes, except for the discontinued Lupron injection.\n",
      "   text: None\n",
      "   table: drugbank-drugs_links\n",
      "\n",
      "2. question: Based on the table, what is the range of administration routes available for glucagon, and which formulations have been discontinued?\n",
      "   answer: According to the table, glucagon is available in several administration routes: subcutaneous, intramuscular, intravenous, and as a nasal powder. The glucagon hydrochloride injection has been discontinued, while other formulations such as glucagon for injection, glucagon subcutaneous, intramuscular, or intravenous injection, and glucagon nasal powder remain available.\n",
      "   text: None\n",
      "   table: drugbank-drugs_links\n",
      "[{'question': 'What are the different approved formulations and routes of administration for leuprolide acetate, and which are currently discontinued based on the provided table data?', 'answer': 'The different approved formulations for leuprolide acetate include Lupron Depot (depot suspension), Lupron Depot-Ped (depot suspension), Fensolvi (suspension), and Eligard (suspension). Lupron (leuprolide) injection is noted as discontinued. The routes of administration for these products are primarily depot suspensions, indicating intramuscular or subcutaneous routes, except for the discontinued Lupron injection.', 'text': 'None', 'table': 'drugbank-drugs_links'}, {'question': 'Based on the table, what is the range of administration routes available for glucagon, and which formulations have been discontinued?', 'answer': 'According to the table, glucagon is available in several administration routes: subcutaneous, intramuscular, intravenous, and as a nasal powder. The glucagon hydrochloride injection has been discontinued, while other formulations such as glucagon for injection, glucagon subcutaneous, intramuscular, or intravenous injection, and glucagon nasal powder remain available.', 'text': 'None', 'table': 'drugbank-drugs_links'}]\n"
     ]
    },
    {
     "name": "stderr",
     "output_type": "stream",
     "text": [
      " 20%|██        | 4/20 [00:19<01:19,  4.94s/it]"
     ]
    },
    {
     "name": "stdout",
     "output_type": "stream",
     "text": [
      "1. question: How does the interaction of vitamin D metabolites with genetic isoforms of the human serum carrier protein (DBP) impact their pharmacological profile according to the drug carrier articles?\n",
      "   answer: The interaction of vitamin D metabolites with genetic isoforms of the human serum carrier protein (DBP) impacts their pharmacological profile by influencing the affinity differences for these metabolites. According to a study cited as \"Arnaud J, Constans J: Affinity differences for vitamin D metabolites associated with the genetic isoforms of the human serum carrier protein (DBP). Hum Genet. 1993 Sep;92(2):183-8,\" these differences can affect the distribution and bioavailability of vitamin D in the body, potentially altering its therapeutic efficacy and safety profile.\n",
      "   text: None\n",
      "   table: drugbank-drug_carriers_articles\n",
      "\n",
      "2. question: What role does the vitamin D3-binding protein play in the activation of macrophages in the inflammation-primed macrophage activation cascade?\n",
      "   answer: The vitamin D3-binding protein acts as a precursor for the macrophage activating factor in the inflammation-primed macrophage activation cascade. This is demonstrated in studies such as the one by \"Yamamoto N, Naraparaju VR: Vitamin D3-binding protein as a precursor for macrophage activating factor in the inflammation-primed macrophage activation cascade in rats. Cell Immunol. 1996 Jun 15;170(2):161-7,\" which indicates that the protein is crucial for the proper activation and function of macrophages, thereby influencing immune responses and inflammation regulation.\n",
      "   text: None\n",
      "   table: drugbank-drug_carriers_articles\n",
      "[{'question': 'How does the interaction of vitamin D metabolites with genetic isoforms of the human serum carrier protein (DBP) impact their pharmacological profile according to the drug carrier articles?', 'answer': 'The interaction of vitamin D metabolites with genetic isoforms of the human serum carrier protein (DBP) impacts their pharmacological profile by influencing the affinity differences for these metabolites. According to a study cited as \"Arnaud J, Constans J: Affinity differences for vitamin D metabolites associated with the genetic isoforms of the human serum carrier protein (DBP). Hum Genet. 1993 Sep;92(2):183-8,\" these differences can affect the distribution and bioavailability of vitamin D in the body, potentially altering its therapeutic efficacy and safety profile.', 'text': 'None', 'table': 'drugbank-drug_carriers_articles'}, {'question': 'What role does the vitamin D3-binding protein play in the activation of macrophages in the inflammation-primed macrophage activation cascade?', 'answer': 'The vitamin D3-binding protein acts as a precursor for the macrophage activating factor in the inflammation-primed macrophage activation cascade. This is demonstrated in studies such as the one by \"Yamamoto N, Naraparaju VR: Vitamin D3-binding protein as a precursor for macrophage activating factor in the inflammation-primed macrophage activation cascade in rats. Cell Immunol. 1996 Jun 15;170(2):161-7,\" which indicates that the protein is crucial for the proper activation and function of macrophages, thereby influencing immune responses and inflammation regulation.', 'text': 'None', 'table': 'drugbank-drug_carriers_articles'}]\n"
     ]
    },
    {
     "name": "stderr",
     "output_type": "stream",
     "text": [
      " 25%|██▌       | 5/20 [00:24<01:12,  4.84s/it]"
     ]
    },
    {
     "name": "stdout",
     "output_type": "stream",
     "text": [
      "1. question: For a drug with the parent key DB00002, what is the significance of its melting point values, and how might these influence its formulation or administration?\n",
      "   answer: The drug with the parent key DB00002 has different melting point values for its FAB fragment (61 °C) and the whole monoclonal antibody (71 °C). These values indicate the thermal stability of the drug's different structural components. A higher melting point for the whole monoclonal antibody suggests greater stability, which may influence the drug's formulation and storage conditions. This stability could potentially affect the choice of excipients and packaging to ensure the drug maintains its efficacy during storage and handling.\n",
      "   text: None\n",
      "   table: drugbank-drug_experimental_properties\n",
      "\n",
      "2. question: Considering the isoelectric points of the drugs listed, which drug might exhibit the greatest solubility at physiological pH, and why?\n",
      "   answer: The drug with the parent key DB00010 has the highest isoelectric point of 9.99. Since the physiological pH is around 7.4, this drug will be more ionized at physiological pH compared to drugs with lower isoelectric points, which can increase its solubility in the aqueous physiological environment. Ionization enhances solubility because it increases the drug's ability to interact with water molecules, making it more soluble.\n",
      "   text: None\n",
      "   table: drugbank-drug_experimental_properties\n",
      "[{'question': 'For a drug with the parent key DB00002, what is the significance of its melting point values, and how might these influence its formulation or administration?', 'answer': \"The drug with the parent key DB00002 has different melting point values for its FAB fragment (61 °C) and the whole monoclonal antibody (71 °C). These values indicate the thermal stability of the drug's different structural components. A higher melting point for the whole monoclonal antibody suggests greater stability, which may influence the drug's formulation and storage conditions. This stability could potentially affect the choice of excipients and packaging to ensure the drug maintains its efficacy during storage and handling.\", 'text': 'None', 'table': 'drugbank-drug_experimental_properties'}, {'question': 'Considering the isoelectric points of the drugs listed, which drug might exhibit the greatest solubility at physiological pH, and why?', 'answer': \"The drug with the parent key DB00010 has the highest isoelectric point of 9.99. Since the physiological pH is around 7.4, this drug will be more ionized at physiological pH compared to drugs with lower isoelectric points, which can increase its solubility in the aqueous physiological environment. Ionization enhances solubility because it increases the drug's ability to interact with water molecules, making it more soluble.\", 'text': 'None', 'table': 'drugbank-drug_experimental_properties'}]\n"
     ]
    },
    {
     "name": "stderr",
     "output_type": "stream",
     "text": [
      " 30%|███       | 6/20 [00:31<01:19,  5.68s/it]"
     ]
    },
    {
     "name": "stdout",
     "output_type": "stream",
     "text": [
      "1. question: What are the functions and processes associated with the transporter polypeptide identified by the parent key BE0001032, and how might these relate to its role in drug pharmacokinetics?\n",
      "   answer: The transporter polypeptide associated with the parent key BE0001032 has several functions, including ATP binding, ATPase activity coupled to the transmembrane movement of substances, transporter activity, and xenobiotic-transporting ATPase activity. It is involved in processes such as drug transmembrane transport, the G2/M transition of the mitotic cell cycle, response to drugs, small molecule metabolic processes, stem cell proliferation, transmembrane transport, and general transport. These functions and processes suggest that this transporter plays a crucial role in drug pharmacokinetics by facilitating the movement of drugs across cell membranes and potentially influencing drug metabolism and cellular responses to drugs.\n",
      "   text: None\n",
      "   table: drugbank-transporters_polypeptides_go\n",
      "\n",
      "2. question: How does the transporter polypeptide identified by the parent key BE0001069 respond to various substances, and what implications might this have for its therapeutic use or drug interactions?\n",
      "   answer: The transporter polypeptide associated with the parent key BE0001069 is involved in processes such as response to arsenic-containing substances, response to estrogen, response to heat, response to methotrexate, and response to oxidative stress. These responses indicate that this transporter is sensitive to a variety of environmental and chemical stimuli, which may affect its function and expression. This sensitivity has implications for its therapeutic use, as it could interact with a range of drugs and environmental factors, potentially influencing drug efficacy and safety. Understanding these interactions is crucial for anticipating drug interactions and optimizing therapeutic outcomes.\n",
      "   text: None\n",
      "   table: drugbank-transporters_polypeptides_go\n",
      "[{'question': 'What are the functions and processes associated with the transporter polypeptide identified by the parent key BE0001032, and how might these relate to its role in drug pharmacokinetics?', 'answer': 'The transporter polypeptide associated with the parent key BE0001032 has several functions, including ATP binding, ATPase activity coupled to the transmembrane movement of substances, transporter activity, and xenobiotic-transporting ATPase activity. It is involved in processes such as drug transmembrane transport, the G2/M transition of the mitotic cell cycle, response to drugs, small molecule metabolic processes, stem cell proliferation, transmembrane transport, and general transport. These functions and processes suggest that this transporter plays a crucial role in drug pharmacokinetics by facilitating the movement of drugs across cell membranes and potentially influencing drug metabolism and cellular responses to drugs.', 'text': 'None', 'table': 'drugbank-transporters_polypeptides_go'}, {'question': 'How does the transporter polypeptide identified by the parent key BE0001069 respond to various substances, and what implications might this have for its therapeutic use or drug interactions?', 'answer': 'The transporter polypeptide associated with the parent key BE0001069 is involved in processes such as response to arsenic-containing substances, response to estrogen, response to heat, response to methotrexate, and response to oxidative stress. These responses indicate that this transporter is sensitive to a variety of environmental and chemical stimuli, which may affect its function and expression. This sensitivity has implications for its therapeutic use, as it could interact with a range of drugs and environmental factors, potentially influencing drug efficacy and safety. Understanding these interactions is crucial for anticipating drug interactions and optimizing therapeutic outcomes.', 'text': 'None', 'table': 'drugbank-transporters_polypeptides_go'}]\n"
     ]
    },
    {
     "name": "stderr",
     "output_type": "stream",
     "text": [
      " 35%|███▌      | 7/20 [00:36<01:09,  5.34s/it]"
     ]
    },
    {
     "name": "stdout",
     "output_type": "stream",
     "text": [
      "1. question: How is the use of Nevirapine documented in terms of FDA labeling and its professional use in treating HIV?\n",
      "   answer: Nevirapine, under the label \"Viramune,\" has an FDA label available at \"https://www.accessdata.fda.gov/drugsatfda_docs/label/2005/20636s025,20933s014lbl.pdf,\" which provides detailed information about its use and safety. Additionally, professional information on Nevirapine can be accessed through the AIDSinfo website at \"https://aidsinfo.nih.gov/drugs/116/nevirapine/17/professional,\" indicating its application in HIV treatment.\n",
      "   text: None\n",
      "   table: drugbank-drug_enzymes_links\n",
      "\n",
      "2. question: What resources are available for understanding the drug interactions of Ranolazine?\n",
      "   answer: For understanding the drug interactions of Ranolazine, one can refer to the FDA Drug Development and Drug Interactions resource, which is available at \"https://www.fda.gov/Drugs/DevelopmentApprovalProcess/DevelopmentResources/DrugInteractionsLabeling/ucm093664.htm,\" and the Australian Assessment Report at \"https://www.tga.gov.au/sites/default/files/auspar-ranolazine-180220.pdf.\" These documents provide detailed insights into the metabolic pathways and possible drug interactions of Ranolazine.\n",
      "   text: None\n",
      "   table: drugbank-drug_enzymes_links\n",
      "[{'question': 'How is the use of Nevirapine documented in terms of FDA labeling and its professional use in treating HIV?', 'answer': 'Nevirapine, under the label \"Viramune,\" has an FDA label available at \"https://www.accessdata.fda.gov/drugsatfda_docs/label/2005/20636s025,20933s014lbl.pdf,\" which provides detailed information about its use and safety. Additionally, professional information on Nevirapine can be accessed through the AIDSinfo website at \"https://aidsinfo.nih.gov/drugs/116/nevirapine/17/professional,\" indicating its application in HIV treatment.', 'text': 'None', 'table': 'drugbank-drug_enzymes_links'}, {'question': 'What resources are available for understanding the drug interactions of Ranolazine?', 'answer': 'For understanding the drug interactions of Ranolazine, one can refer to the FDA Drug Development and Drug Interactions resource, which is available at \"https://www.fda.gov/Drugs/DevelopmentApprovalProcess/DevelopmentResources/DrugInteractionsLabeling/ucm093664.htm,\" and the Australian Assessment Report at \"https://www.tga.gov.au/sites/default/files/auspar-ranolazine-180220.pdf.\" These documents provide detailed insights into the metabolic pathways and possible drug interactions of Ranolazine.', 'text': 'None', 'table': 'drugbank-drug_enzymes_links'}]\n"
     ]
    },
    {
     "name": "stderr",
     "output_type": "stream",
     "text": [
      " 40%|████      | 8/20 [00:41<01:01,  5.12s/it]"
     ]
    },
    {
     "name": "stdout",
     "output_type": "stream",
     "text": [
      "1. question: What therapeutic class does the drug with DrugBank ID DB00002 belong to, and what is the primary mechanism of action for drugs in this class?\n",
      "   answer: The drug with DrugBank ID DB00002 belongs to the therapeutic class of \"Monoclonal antibodies,\" which falls under the category of \"OTHER ANTINEOPLASTIC AGENTS\" in the ATC classification. The primary mechanism of action for monoclonal antibodies involves targeting specific antigens on cancer cells, leading to their destruction or inhibition of their growth.\n",
      "   text: None\n",
      "   table: drugbank-drug_atc_codes\n",
      "\n",
      "2. question: Identify the ATC classification for the drug with DrugBank ID DB00007, and describe the primary therapeutic use of drugs in its level 2 category.\n",
      "   answer: The drug with DrugBank ID DB00007 is classified under the ATC code \"L02AE,\" which corresponds to \"Gonadotropin releasing hormone analogues\" at level 1. The level 2 category is \"HORMONES AND RELATED AGENTS.\" The primary therapeutic use of drugs in this category is for endocrine therapy, specifically in hormone-related disorders such as prostate cancer and breast cancer, where they function by modulating hormone levels in the body.\n",
      "   text: None\n",
      "   table: drugbank-drug_atc_codes\n",
      "[{'question': 'What therapeutic class does the drug with DrugBank ID DB00002 belong to, and what is the primary mechanism of action for drugs in this class?', 'answer': 'The drug with DrugBank ID DB00002 belongs to the therapeutic class of \"Monoclonal antibodies,\" which falls under the category of \"OTHER ANTINEOPLASTIC AGENTS\" in the ATC classification. The primary mechanism of action for monoclonal antibodies involves targeting specific antigens on cancer cells, leading to their destruction or inhibition of their growth.', 'text': 'None', 'table': 'drugbank-drug_atc_codes'}, {'question': 'Identify the ATC classification for the drug with DrugBank ID DB00007, and describe the primary therapeutic use of drugs in its level 2 category.', 'answer': 'The drug with DrugBank ID DB00007 is classified under the ATC code \"L02AE,\" which corresponds to \"Gonadotropin releasing hormone analogues\" at level 1. The level 2 category is \"HORMONES AND RELATED AGENTS.\" The primary therapeutic use of drugs in this category is for endocrine therapy, specifically in hormone-related disorders such as prostate cancer and breast cancer, where they function by modulating hormone levels in the body.', 'text': 'None', 'table': 'drugbank-drug_atc_codes'}]\n"
     ]
    },
    {
     "name": "stderr",
     "output_type": "stream",
     "text": [
      " 45%|████▌     | 9/20 [00:46<00:55,  5.08s/it]"
     ]
    },
    {
     "name": "stdout",
     "output_type": "stream",
     "text": [
      "1. question: What are the potential interactions or contraindications that a healthcare professional should consider when prescribing CYTOMEL (liothyronine) based on its FDA label?\n",
      "   answer: The FDA label for CYTOMEL (liothyronine) would provide detailed information on contraindications and potential drug interactions. Healthcare professionals should review the label carefully to understand any specific recommendations or warnings related to the use of liothyronine, particularly in patients with underlying medical conditions or those taking other medications that might interact with thyroid hormones. The label is available via the provided URL.\n",
      "   text: None\n",
      "   table: drugbank-drug_carriers_attachments\n",
      "\n",
      "2. question: Considering the regulatory documentation available, how does the FDA labeling for Prazosin inform its clinical use in comparison to other available labels, such as for Pitavastatin or Adynovate?\n",
      "   answer: The FDA labeling for Prazosin provides specific guidance on its clinical use, including approved indications, administration routes, dosing considerations, potential side effects, and contraindications. This information can be compared with labels like those for Pitavastatin and Adynovate to assess differences in therapeutic applications, safety profiles, and prescribing recommendations. Each FDA label will highlight unique aspects pertinent to the drug's mechanism of action and its therapeutic role in clinical practice.\n",
      "   text: None\n",
      "   table: drugbank-drug_carriers_attachments\n",
      "[{'question': 'What are the potential interactions or contraindications that a healthcare professional should consider when prescribing CYTOMEL (liothyronine) based on its FDA label?', 'answer': 'The FDA label for CYTOMEL (liothyronine) would provide detailed information on contraindications and potential drug interactions. Healthcare professionals should review the label carefully to understand any specific recommendations or warnings related to the use of liothyronine, particularly in patients with underlying medical conditions or those taking other medications that might interact with thyroid hormones. The label is available via the provided URL.', 'text': 'None', 'table': 'drugbank-drug_carriers_attachments'}, {'question': 'Considering the regulatory documentation available, how does the FDA labeling for Prazosin inform its clinical use in comparison to other available labels, such as for Pitavastatin or Adynovate?', 'answer': \"The FDA labeling for Prazosin provides specific guidance on its clinical use, including approved indications, administration routes, dosing considerations, potential side effects, and contraindications. This information can be compared with labels like those for Pitavastatin and Adynovate to assess differences in therapeutic applications, safety profiles, and prescribing recommendations. Each FDA label will highlight unique aspects pertinent to the drug's mechanism of action and its therapeutic role in clinical practice.\", 'text': 'None', 'table': 'drugbank-drug_carriers_attachments'}]\n"
     ]
    },
    {
     "name": "stderr",
     "output_type": "stream",
     "text": [
      " 50%|█████     | 10/20 [00:50<00:49,  4.99s/it]"
     ]
    },
    {
     "name": "stdout",
     "output_type": "stream",
     "text": [
      "1. question: What is the specific function of the transporter encoded by the ABCB1 gene, and how does it contribute to multidrug resistance in cancer cells?\n",
      "   answer: The transporter encoded by the ABCB1 gene, known as the Multidrug resistance protein 1, functions as an energy-dependent efflux pump responsible for decreased drug accumulation in multidrug-resistant cells. This pump actively transports various xenobiotics and drugs out of cells, thereby contributing to the development of resistance to multiple chemotherapeutic agents in cancer treatment.\n",
      "   text: None\n",
      "   table: drugbank-transporters_polypeptides\n",
      "\n",
      "2. question: Which transporter is implicated in the ATP-dependent secretion of bile salts and what is its cellular location?\n",
      "   answer: The Bile salt export pump, encoded by the ABCB11 gene, is involved in the ATP-dependent secretion of bile salts into the canaliculus of hepatocytes. Its cellular location is within the membrane, which facilitates its function in transporting bile acids across the cell membrane.\n",
      "   text: None\n",
      "   table: drugbank-transporters_polypeptides\n",
      "[{'question': 'What is the specific function of the transporter encoded by the ABCB1 gene, and how does it contribute to multidrug resistance in cancer cells?', 'answer': 'The transporter encoded by the ABCB1 gene, known as the Multidrug resistance protein 1, functions as an energy-dependent efflux pump responsible for decreased drug accumulation in multidrug-resistant cells. This pump actively transports various xenobiotics and drugs out of cells, thereby contributing to the development of resistance to multiple chemotherapeutic agents in cancer treatment.', 'text': 'None', 'table': 'drugbank-transporters_polypeptides'}, {'question': 'Which transporter is implicated in the ATP-dependent secretion of bile salts and what is its cellular location?', 'answer': 'The Bile salt export pump, encoded by the ABCB11 gene, is involved in the ATP-dependent secretion of bile salts into the canaliculus of hepatocytes. Its cellular location is within the membrane, which facilitates its function in transporting bile acids across the cell membrane.', 'text': 'None', 'table': 'drugbank-transporters_polypeptides'}]\n"
     ]
    },
    {
     "name": "stderr",
     "output_type": "stream",
     "text": [
      " 55%|█████▌    | 11/20 [00:56<00:47,  5.23s/it]"
     ]
    },
    {
     "name": "stdout",
     "output_type": "stream",
     "text": [
      "1. question: What is the specific function of the protein encoded by the gene SERPINA7, and what is its significance in thyroid hormone transport?\n",
      "   answer: The protein encoded by the gene SERPINA7 is Thyroxine-binding globulin, whose specific function is as a major thyroid hormone transport protein in serum. This protein is crucial for the transport of thyroid hormones, such as thyroxine (T4) and triiodothyronine (T3), in the bloodstream, thereby playing a vital role in maintaining hormone levels and facilitating their physiological effects.\n",
      "   text: None\n",
      "   table: drugbank-carriers_polypeptides\n",
      "\n",
      "2. question: How does the molecular weight and theoretical isoelectric point (pI) of Serum albumin compare to that of Thyroxine-binding globulin?\n",
      "   answer: Serum albumin has a molecular weight of 69365.94 Da and a theoretical isoelectric point (pI) of 6.21. In comparison, Thyroxine-binding globulin has a molecular weight of 46324.12 Da and a theoretical pI of 6.27. This shows that Serum albumin is significantly heavier in terms of molecular weight, while both proteins have similar isoelectric points, indicating similar charges at their respective pH levels.\n",
      "   text: None\n",
      "   table: drugbank-carriers_polypeptides\n",
      "[{'question': 'What is the specific function of the protein encoded by the gene SERPINA7, and what is its significance in thyroid hormone transport?', 'answer': 'The protein encoded by the gene SERPINA7 is Thyroxine-binding globulin, whose specific function is as a major thyroid hormone transport protein in serum. This protein is crucial for the transport of thyroid hormones, such as thyroxine (T4) and triiodothyronine (T3), in the bloodstream, thereby playing a vital role in maintaining hormone levels and facilitating their physiological effects.', 'text': 'None', 'table': 'drugbank-carriers_polypeptides'}, {'question': 'How does the molecular weight and theoretical isoelectric point (pI) of Serum albumin compare to that of Thyroxine-binding globulin?', 'answer': 'Serum albumin has a molecular weight of 69365.94 Da and a theoretical isoelectric point (pI) of 6.21. In comparison, Thyroxine-binding globulin has a molecular weight of 46324.12 Da and a theoretical pI of 6.27. This shows that Serum albumin is significantly heavier in terms of molecular weight, while both proteins have similar isoelectric points, indicating similar charges at their respective pH levels.', 'text': 'None', 'table': 'drugbank-carriers_polypeptides'}]\n"
     ]
    },
    {
     "name": "stderr",
     "output_type": "stream",
     "text": [
      " 60%|██████    | 12/20 [01:00<00:38,  4.85s/it]"
     ]
    },
    {
     "name": "stdout",
     "output_type": "stream",
     "text": [
      "1. question: What potential effect could occur if a patient receiving Ravulizumab is also administered Cetuximab, and what clinical considerations should be taken into account?\n",
      "   answer: If a patient receiving Ravulizumab is also administered Cetuximab, the risk or severity of adverse effects can be increased. Clinicians should monitor the patient closely for any signs of adverse reactions and consider adjusting the treatment regimen accordingly to mitigate potential risks.\n",
      "   text: None\n",
      "   table: drugbank-query_ddi_table\n",
      "\n",
      "2. question: In a patient treated with Methoxy polyethylene glycol-epoetin beta, what additional risk could Leuprolide introduce, and how should this influence management decisions?\n",
      "   answer: In a patient treated with Methoxy polyethylene glycol-epoetin beta, the administration of Leuprolide could increase the risk or severity of thrombosis. This combination requires careful monitoring for thrombotic events, and healthcare providers may need to consider thromboprophylaxis or alternative therapies to manage this risk.\n",
      "   text: None\n",
      "   table: drugbank-query_ddi_table\n",
      "[{'question': 'What potential effect could occur if a patient receiving Ravulizumab is also administered Cetuximab, and what clinical considerations should be taken into account?', 'answer': 'If a patient receiving Ravulizumab is also administered Cetuximab, the risk or severity of adverse effects can be increased. Clinicians should monitor the patient closely for any signs of adverse reactions and consider adjusting the treatment regimen accordingly to mitigate potential risks.', 'text': 'None', 'table': 'drugbank-query_ddi_table'}, {'question': 'In a patient treated with Methoxy polyethylene glycol-epoetin beta, what additional risk could Leuprolide introduce, and how should this influence management decisions?', 'answer': 'In a patient treated with Methoxy polyethylene glycol-epoetin beta, the administration of Leuprolide could increase the risk or severity of thrombosis. This combination requires careful monitoring for thrombotic events, and healthcare providers may need to consider thromboprophylaxis or alternative therapies to manage this risk.', 'text': 'None', 'table': 'drugbank-query_ddi_table'}]\n"
     ]
    },
    {
     "name": "stderr",
     "output_type": "stream",
     "text": [
      " 65%|██████▌   | 13/20 [01:03<00:29,  4.20s/it]"
     ]
    },
    {
     "name": "stdout",
     "output_type": "stream",
     "text": [
      "1. question: What is the UniProtKB identifier for the enzyme associated with the GenAtlas identifier CYP1A2?\n",
      "   answer: The UniProtKB identifier for the enzyme associated with the GenAtlas identifier CYP1A2 is P05177.\n",
      "   text: None\n",
      "   table: drugbank-enzymes_polypeptides_ext_id\n",
      "\n",
      "2. question: Which enzyme, identified by the HUGO Gene Nomenclature Committee with the identifier HGNC:2625, is linked to the UniProt Accession CP2D6_HUMAN?\n",
      "   answer: The enzyme identified by the HUGO Gene Nomenclature Committee with the identifier HGNC:2625 and linked to the UniProt Accession CP2D6_HUMAN is CYP2D6.\n",
      "   text: None\n",
      "   table: drugbank-enzymes_polypeptides_ext_id\n",
      "[{'question': 'What is the UniProtKB identifier for the enzyme associated with the GenAtlas identifier CYP1A2?', 'answer': 'The UniProtKB identifier for the enzyme associated with the GenAtlas identifier CYP1A2 is P05177.', 'text': 'None', 'table': 'drugbank-enzymes_polypeptides_ext_id'}, {'question': 'Which enzyme, identified by the HUGO Gene Nomenclature Committee with the identifier HGNC:2625, is linked to the UniProt Accession CP2D6_HUMAN?', 'answer': 'The enzyme identified by the HUGO Gene Nomenclature Committee with the identifier HGNC:2625 and linked to the UniProt Accession CP2D6_HUMAN is CYP2D6.', 'text': 'None', 'table': 'drugbank-enzymes_polypeptides_ext_id'}]\n"
     ]
    },
    {
     "name": "stderr",
     "output_type": "stream",
     "text": [
      " 70%|███████   | 14/20 [01:06<00:22,  3.73s/it]"
     ]
    },
    {
     "name": "stdout",
     "output_type": "stream",
     "text": [
      "1. question: Which companies manufacture the drug associated with the DrugBank ID DB00007, and what are the brand names of this drug?\n",
      "   answer: The drug associated with DrugBank ID DB00007 is manufactured by several companies, including Takeda, Baxter/Teva, and Curaxis. The brand names of this drug are Leuplin, LeuProMaxx, Memryte, Prostap 3, and Prostap SR.\n",
      "   text: None\n",
      "   table: drugbank-drug_international_brands\n",
      "\n",
      "2. question: Identify the drug with DrugBank ID DB00051 and list the pharmaceutical companies associated with its different brand names.\n",
      "   answer: The drug with DrugBank ID DB00051 is associated with the brand names Amjevita, Cyltezo, and Humira Pen. The pharmaceutical companies associated with these brand names are Amgen, Inc. for Amjevita, Boehringer Ingelheim Pharmaceuticals, Inc. for Cyltezo, and Abbott Laboratories for Humira Pen.\n",
      "   text: None\n",
      "   table: drugbank-drug_international_brands\n",
      "[{'question': 'Which companies manufacture the drug associated with the DrugBank ID DB00007, and what are the brand names of this drug?', 'answer': 'The drug associated with DrugBank ID DB00007 is manufactured by several companies, including Takeda, Baxter/Teva, and Curaxis. The brand names of this drug are Leuplin, LeuProMaxx, Memryte, Prostap 3, and Prostap SR.', 'text': 'None', 'table': 'drugbank-drug_international_brands'}, {'question': 'Identify the drug with DrugBank ID DB00051 and list the pharmaceutical companies associated with its different brand names.', 'answer': 'The drug with DrugBank ID DB00051 is associated with the brand names Amjevita, Cyltezo, and Humira Pen. The pharmaceutical companies associated with these brand names are Amgen, Inc. for Amjevita, Boehringer Ingelheim Pharmaceuticals, Inc. for Cyltezo, and Abbott Laboratories for Humira Pen.', 'text': 'None', 'table': 'drugbank-drug_international_brands'}]\n"
     ]
    },
    {
     "name": "stderr",
     "output_type": "stream",
     "text": [
      " 75%|███████▌  | 15/20 [01:10<00:19,  3.95s/it]"
     ]
    },
    {
     "name": "stdout",
     "output_type": "stream",
     "text": [
      "1. question: What is the enzyme classification number for the target associated with Coagulation factor II, and why might this be clinically significant in pharmacology?\n",
      "   answer: The enzyme classification number for the target associated with Coagulation factor II is 3.4.21.5. This classification is significant in pharmacology as it identifies Coagulation factor II as a serine protease, which is a type of enzyme that plays a critical role in the blood coagulation cascade. Understanding this mechanism can be important for the development of anticoagulant drugs, such as those used to prevent thrombosis.\n",
      "   text: None\n",
      "   table: drugbank-targets_polypeptides_syn\n",
      "\n",
      "2. question: In the context of receptor tyrosine kinases, what are the different synonyms for ERBB1, and how might these synonyms be relevant in targeted cancer therapies?\n",
      "   answer: The different synonyms for ERBB1 include HER1, Proto-oncogene c-ErbB-1, and Receptor tyrosine-protein kinase erbB-1. These synonyms are relevant in targeted cancer therapies because ERBB1, also known as the Epidermal Growth Factor Receptor (EGFR), is a major target in cancer treatment. Drugs targeting EGFR are designed to inhibit its kinase activity, which is often overexpressed or mutated in various cancers, leading to uncontrolled cell proliferation.\n",
      "   text: None\n",
      "   table: drugbank-targets_polypeptides_syn\n",
      "[{'question': 'What is the enzyme classification number for the target associated with Coagulation factor II, and why might this be clinically significant in pharmacology?', 'answer': 'The enzyme classification number for the target associated with Coagulation factor II is 3.4.21.5. This classification is significant in pharmacology as it identifies Coagulation factor II as a serine protease, which is a type of enzyme that plays a critical role in the blood coagulation cascade. Understanding this mechanism can be important for the development of anticoagulant drugs, such as those used to prevent thrombosis.', 'text': 'None', 'table': 'drugbank-targets_polypeptides_syn'}, {'question': 'In the context of receptor tyrosine kinases, what are the different synonyms for ERBB1, and how might these synonyms be relevant in targeted cancer therapies?', 'answer': 'The different synonyms for ERBB1 include HER1, Proto-oncogene c-ErbB-1, and Receptor tyrosine-protein kinase erbB-1. These synonyms are relevant in targeted cancer therapies because ERBB1, also known as the Epidermal Growth Factor Receptor (EGFR), is a major target in cancer treatment. Drugs targeting EGFR are designed to inhibit its kinase activity, which is often overexpressed or mutated in various cancers, leading to uncontrolled cell proliferation.', 'text': 'None', 'table': 'drugbank-targets_polypeptides_syn'}]\n"
     ]
    },
    {
     "name": "stderr",
     "output_type": "stream",
     "text": [
      " 80%|████████  | 16/20 [01:14<00:15,  3.98s/it]"
     ]
    },
    {
     "name": "stdout",
     "output_type": "stream",
     "text": [
      "1. question: Identify the transporter associated with the UniProtKB identifier \"Q92887\" and discuss its potential role in drug transport.\n",
      "   answer: The transporter associated with the UniProtKB identifier \"Q92887\" is MRP2_HUMAN, which corresponds to the multidrug resistance-associated protein 2 (MRP2). MRP2 is an important efflux transporter involved in the transport of various drugs and their metabolites out of cells, particularly in the liver and kidneys. It plays a critical role in the excretion of drugs and xenobiotics into bile and urine, thus affecting their pharmacokinetics and potential drug interactions.\n",
      "   text: None\n",
      "   table: drugbank-transporters_polypeptides_ext_id\n",
      "\n",
      "2. question: What is the GenAtlas identifier for the transporter associated with the parent key \"BE0001067,\" and what is its significance in pharmacology?\n",
      "   answer: The GenAtlas identifier for the transporter associated with the parent key \"BE0001067\" is ABCG2. ABCG2, also known as breast cancer resistance protein (BCRP), is a key player in drug resistance, particularly in cancer therapy. It is an efflux transporter that limits the absorption and enhances the elimination of various anticancer drugs, affecting their efficacy and contributing to multidrug resistance in cancer cells.\n",
      "   text: None\n",
      "   table: drugbank-transporters_polypeptides_ext_id\n",
      "[{'question': 'Identify the transporter associated with the UniProtKB identifier \"Q92887\" and discuss its potential role in drug transport.', 'answer': 'The transporter associated with the UniProtKB identifier \"Q92887\" is MRP2_HUMAN, which corresponds to the multidrug resistance-associated protein 2 (MRP2). MRP2 is an important efflux transporter involved in the transport of various drugs and their metabolites out of cells, particularly in the liver and kidneys. It plays a critical role in the excretion of drugs and xenobiotics into bile and urine, thus affecting their pharmacokinetics and potential drug interactions.', 'text': 'None', 'table': 'drugbank-transporters_polypeptides_ext_id'}, {'question': 'What is the GenAtlas identifier for the transporter associated with the parent key \"BE0001067,\" and what is its significance in pharmacology?', 'answer': 'The GenAtlas identifier for the transporter associated with the parent key \"BE0001067\" is ABCG2. ABCG2, also known as breast cancer resistance protein (BCRP), is a key player in drug resistance, particularly in cancer therapy. It is an efflux transporter that limits the absorption and enhances the elimination of various anticancer drugs, affecting their efficacy and contributing to multidrug resistance in cancer cells.', 'text': 'None', 'table': 'drugbank-transporters_polypeptides_ext_id'}]\n"
     ]
    },
    {
     "name": "stderr",
     "output_type": "stream",
     "text": [
      " 85%|████████▌ | 17/20 [01:19<00:12,  4.27s/it]"
     ]
    },
    {
     "name": "stdout",
     "output_type": "stream",
     "text": [
      "1. question: What is the UniProt ID for the enzyme involved in the metabolism of drugs that are substrates for Cytochrome P450 3A4, and why is this enzyme significant in pharmacology?\n",
      "   answer: The UniProt ID for Cytochrome P450 3A4 is P08684. This enzyme is significant in pharmacology because it is one of the most important enzymes in the liver for drug metabolism, responsible for the oxidation of many pharmaceuticals, making it crucial for determining the pharmacokinetics and interactions of a wide variety of drugs.\n",
      "   text: None\n",
      "   table: drugbank-drug_reactions_enzymes\n",
      "\n",
      "2. question: Identify two enzymes that share the same drugbank-id with Cytochrome P450 3A4 and discuss their potential impact on drug metabolism.\n",
      "   answer: The two enzymes that share the same drugbank-id (BE0002638) with Cytochrome P450 3A4 are Glutaminase liver isoform, mitochondrial (Q9UI32) and Glutaminase kidney isoform, mitochondrial (O94925). These enzymes impact drug metabolism by catalyzing the hydrolysis of glutamine to glutamate, which can influence the availability of amino acids in the liver and kidneys, potentially affecting the biotransformation and clearance of drugs that are substrates for glutaminase pathways.\n",
      "   text: None\n",
      "   table: drugbank-drug_reactions_enzymes\n",
      "[{'question': 'What is the UniProt ID for the enzyme involved in the metabolism of drugs that are substrates for Cytochrome P450 3A4, and why is this enzyme significant in pharmacology?', 'answer': 'The UniProt ID for Cytochrome P450 3A4 is P08684. This enzyme is significant in pharmacology because it is one of the most important enzymes in the liver for drug metabolism, responsible for the oxidation of many pharmaceuticals, making it crucial for determining the pharmacokinetics and interactions of a wide variety of drugs.', 'text': 'None', 'table': 'drugbank-drug_reactions_enzymes'}, {'question': 'Identify two enzymes that share the same drugbank-id with Cytochrome P450 3A4 and discuss their potential impact on drug metabolism.', 'answer': 'The two enzymes that share the same drugbank-id (BE0002638) with Cytochrome P450 3A4 are Glutaminase liver isoform, mitochondrial (Q9UI32) and Glutaminase kidney isoform, mitochondrial (O94925). These enzymes impact drug metabolism by catalyzing the hydrolysis of glutamine to glutamate, which can influence the availability of amino acids in the liver and kidneys, potentially affecting the biotransformation and clearance of drugs that are substrates for glutaminase pathways.', 'text': 'None', 'table': 'drugbank-drug_reactions_enzymes'}]\n"
     ]
    },
    {
     "name": "stderr",
     "output_type": "stream",
     "text": [
      " 90%|█████████ | 18/20 [01:26<00:09,  4.95s/it]"
     ]
    },
    {
     "name": "stdout",
     "output_type": "stream",
     "text": [
      "1. question: What are the different synonyms for the protein that acts as a carrier called \"Brain lipid-binding protein,\" and what could be its potential role concerning drug binding or transport mechanisms?\n",
      "   answer: The protein known as \"Brain lipid-binding protein\" is synonymously referred to as B-FABP, BLBP, Brain-type fatty acid-binding protein, FABPB, Fatty acid-binding protein 7, Mammary-derived growth inhibitor related, and MRG. As a lipid-binding protein, it could potentially play a role in the transport or binding of drugs that are lipid-soluble, affecting their distribution within the brain.\n",
      "   text: None\n",
      "   table: drugbank-carriers_polypeptides_syn\n",
      "\n",
      "2. question: How does the protein known as \"Serpin A6\" relate to corticosteroid transport, and what are its synonyms that might be used in literature or clinical discussions?\n",
      "   answer: The protein \"Serpin A6\" is involved in corticosteroid transport as it is synonymously known as CBG (corticosteroid-binding globulin) and Transcortin. These synonyms indicate its role in the binding and transport of corticosteroids, which could affect the pharmacokinetics of steroid-based drugs.\n",
      "   text: None\n",
      "   table: drugbank-carriers_polypeptides_syn\n",
      "[{'question': 'What are the different synonyms for the protein that acts as a carrier called \"Brain lipid-binding protein,\" and what could be its potential role concerning drug binding or transport mechanisms?', 'answer': 'The protein known as \"Brain lipid-binding protein\" is synonymously referred to as B-FABP, BLBP, Brain-type fatty acid-binding protein, FABPB, Fatty acid-binding protein 7, Mammary-derived growth inhibitor related, and MRG. As a lipid-binding protein, it could potentially play a role in the transport or binding of drugs that are lipid-soluble, affecting their distribution within the brain.', 'text': 'None', 'table': 'drugbank-carriers_polypeptides_syn'}, {'question': 'How does the protein known as \"Serpin A6\" relate to corticosteroid transport, and what are its synonyms that might be used in literature or clinical discussions?', 'answer': 'The protein \"Serpin A6\" is involved in corticosteroid transport as it is synonymously known as CBG (corticosteroid-binding globulin) and Transcortin. These synonyms indicate its role in the binding and transport of corticosteroids, which could affect the pharmacokinetics of steroid-based drugs.', 'text': 'None', 'table': 'drugbank-carriers_polypeptides_syn'}]\n"
     ]
    },
    {
     "name": "stderr",
     "output_type": "stream",
     "text": [
      " 95%|█████████▌| 19/20 [01:29<00:04,  4.51s/it]"
     ]
    },
    {
     "name": "stdout",
     "output_type": "stream",
     "text": [
      "1. question: Which drug in the database is both approved and has been withdrawn, and what might this imply about its clinical use?\n",
      "   answer: The drug with DrugBank ID DB00010 is both approved and withdrawn. This dual status might imply that, although the drug was once approved for clinical use, it was later withdrawn due to safety concerns, adverse effects, or the availability of better alternatives.\n",
      "   text: None\n",
      "   table: drugbank-drug_groups\n",
      "\n",
      "2. question: Identify a drug in the database that is approved for use but also has a status indicating it is being investigated. Why might a drug have such dual classifications?\n",
      "   answer: The drug with DrugBank ID DB00004 is both approved and investigational. A drug can have such dual classifications if it is approved for certain indications but is still under investigation for additional uses or in combination with other therapies, aiming to expand its clinical applications or improve its efficacy and safety profile.\n",
      "   text: None\n",
      "   table: drugbank-drug_groups\n",
      "[{'question': 'Which drug in the database is both approved and has been withdrawn, and what might this imply about its clinical use?', 'answer': 'The drug with DrugBank ID DB00010 is both approved and withdrawn. This dual status might imply that, although the drug was once approved for clinical use, it was later withdrawn due to safety concerns, adverse effects, or the availability of better alternatives.', 'text': 'None', 'table': 'drugbank-drug_groups'}, {'question': 'Identify a drug in the database that is approved for use but also has a status indicating it is being investigated. Why might a drug have such dual classifications?', 'answer': 'The drug with DrugBank ID DB00004 is both approved and investigational. A drug can have such dual classifications if it is approved for certain indications but is still under investigation for additional uses or in combination with other therapies, aiming to expand its clinical applications or improve its efficacy and safety profile.', 'text': 'None', 'table': 'drugbank-drug_groups'}]\n"
     ]
    },
    {
     "name": "stderr",
     "output_type": "stream",
     "text": [
      "100%|██████████| 20/20 [01:34<00:00,  4.73s/it]"
     ]
    },
    {
     "name": "stdout",
     "output_type": "stream",
     "text": [
      "1. question: What is the therapeutic application of leuprolide acetate, as indicated by the FDA labels for its various formulations, and what makes it unique compared to other drug therapies?\n",
      "   answer: Leuprolide acetate is utilized in various formulations such as Lupron Depot, Lupron Depot-Ped, Fensolvi, and Eligard, which are all depot suspensions, indicating its role in long-term hormonal therapy. These formulations are used primarily for conditions like prostate cancer, endometriosis, central precocious puberty, and uterine fibroids, as noted by the FDA labels. Its uniqueness lies in its sustained-release formulation, which allows for less frequent dosing and better patient compliance in chronic conditions requiring hormonal suppression.\n",
      "   text: None\n",
      "   table: drugbank-drug_targ_links\n",
      "\n",
      "2. question: How does the administration route and formulation of octreotide differentiate it from other somatostatin analogs in terms of clinical use according to the FDA and NIH resources?\n",
      "   answer: Octreotide, as detailed in the FDA-approved product monograph for Sandostatin, is available as an injection, distinguishing it from other somatostatin analogs that may come in different formulations. This route of administration is particularly useful in managing acromegaly and severe diarrhea/flushing episodes associated with metastatic carcinoid tumors, and VIPomas, by providing a rapid onset of action, which is crucial for acute management of these conditions.\n",
      "   text: None\n",
      "   table: drugbank-drug_targ_links\n",
      "[{'question': 'What is the therapeutic application of leuprolide acetate, as indicated by the FDA labels for its various formulations, and what makes it unique compared to other drug therapies?', 'answer': 'Leuprolide acetate is utilized in various formulations such as Lupron Depot, Lupron Depot-Ped, Fensolvi, and Eligard, which are all depot suspensions, indicating its role in long-term hormonal therapy. These formulations are used primarily for conditions like prostate cancer, endometriosis, central precocious puberty, and uterine fibroids, as noted by the FDA labels. Its uniqueness lies in its sustained-release formulation, which allows for less frequent dosing and better patient compliance in chronic conditions requiring hormonal suppression.', 'text': 'None', 'table': 'drugbank-drug_targ_links'}, {'question': 'How does the administration route and formulation of octreotide differentiate it from other somatostatin analogs in terms of clinical use according to the FDA and NIH resources?', 'answer': 'Octreotide, as detailed in the FDA-approved product monograph for Sandostatin, is available as an injection, distinguishing it from other somatostatin analogs that may come in different formulations. This route of administration is particularly useful in managing acromegaly and severe diarrhea/flushing episodes associated with metastatic carcinoid tumors, and VIPomas, by providing a rapid onset of action, which is crucial for acute management of these conditions.', 'text': 'None', 'table': 'drugbank-drug_targ_links'}]\n",
      "Generated 40 question-answer pairs\n"
     ]
    },
    {
     "name": "stderr",
     "output_type": "stream",
     "text": [
      "\n"
     ]
    }
   ],
   "source": [
    "if __name__ == \"__main__\":\n",
    "    main()"
   ]
  }
 ],
 "metadata": {
  "kernelspec": {
   "display_name": "data_decomposer",
   "language": "python",
   "name": "python3"
  },
  "language_info": {
   "codemirror_mode": {
    "name": "ipython",
    "version": 3
   },
   "file_extension": ".py",
   "mimetype": "text/x-python",
   "name": "python",
   "nbconvert_exporter": "python",
   "pygments_lexer": "ipython3",
   "version": "3.10.16"
  }
 },
 "nbformat": 4,
 "nbformat_minor": 2
}
