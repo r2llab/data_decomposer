{
 "cells": [
  {
   "cell_type": "markdown",
   "metadata": {},
   "source": [
    "# Automated Question-Answer Generation from Pharmaceutical Data\n",
    "\n",
    "This notebook systematically generates question-answer pairs from pharmaceutical data sources including:\n",
    "1. PubMed target passages\n",
    "2. DrugBank tables\n",
    "3. Related pharmaceutical data\n",
    "\n",
    "Each QA pair will include:\n",
    "- Question\n",
    "- Answer\n",
    "- Source text/passage\n",
    "- Related table"
   ]
  },
  {
   "cell_type": "code",
   "execution_count": 1,
   "metadata": {},
   "outputs": [],
   "source": [
    "# Import required libraries\n",
    "import os\n",
    "import pandas as pd\n",
    "import json\n",
    "from pathlib import Path\n",
    "from openai import OpenAI\n",
    "import csv\n",
    "from tqdm import tqdm\n",
    "from collections import defaultdict\n",
    "import time\n",
    "import re\n"
   ]
  },
  {
   "cell_type": "code",
   "execution_count": 2,
   "metadata": {},
   "outputs": [],
   "source": [
    "# Configuration and paths\n",
    "PUBMED_TARGETS_DIR = '../data/Pharma/pubmed-targets'\n",
    "DRUGBANK_TABLES_DIR = '../data/Pharma/drugbank-tables'\n",
    "MAPPING_FILE = '../data/Pharma/pubmed-drugbank-tables.gt'\n",
    "OUTPUT_FILE = 'passage_output_2.gt'\n",
    "\n",
    "# Initialize your LLM API key if needed\n",
    "# os.environ[\"OPENAI_API_KEY\"]=\"<KEY>\"\n",
    "client = OpenAI()\n"
   ]
  },
  {
   "cell_type": "code",
   "execution_count": 3,
   "metadata": {},
   "outputs": [],
   "source": [
    "def load_passage_table_mapping():\n",
    "    \"\"\"Load the mapping between passages and their relevant tables\"\"\"\n",
    "    mapping = defaultdict(list)\n",
    "    with open(MAPPING_FILE, 'r') as f:\n",
    "        for line in f:\n",
    "            passage_id, table_name = line.strip().split(',')\n",
    "            mapping[passage_id].append(table_name)\n",
    "    # print(\"mapping\", mapping)\n",
    "    return mapping\n",
    "\n",
    "def load_target_passages():\n",
    "    \"\"\"Load all target passages from the pubmed-targets directory\"\"\"\n",
    "    passages = {}\n",
    "    target_files = Path(PUBMED_TARGETS_DIR).glob('Target-*')\n",
    "    \n",
    "    for file_path in target_files:\n",
    "        target_id = file_path.name\n",
    "        with open(file_path, 'r') as f:\n",
    "            passages[target_id] = f.read()\n",
    "    # print(\"passages\", passages)\n",
    "    return passages\n",
    "\n",
    "def load_drugbank_tables():\n",
    "    \"\"\"Load all relevant DrugBank tables\"\"\"\n",
    "    tables = {}\n",
    "    csv_files = Path(DRUGBANK_TABLES_DIR).glob('*.csv')\n",
    "    \n",
    "    for file_path in csv_files:\n",
    "        table_name = file_path.stem\n",
    "        tables[table_name] = pd.read_csv(file_path)\n",
    "    \n",
    "    # print(\"tables\", tables)\n",
    "    return tables"
   ]
  },
  {
   "cell_type": "code",
   "execution_count": 4,
   "metadata": {},
   "outputs": [],
   "source": [
    "def generate_questions_for_passages(passage_ids, passage_texts, model=\"gpt-4o\"):\n",
    "    \"\"\"Generate questions for a given passage and its relevant tables using LLM\"\"\"\n",
    "    \n",
    "    # Format all passages with their IDs for the prompt\n",
    "    passages_formatted = \"\"\n",
    "    for idx, (pid, text) in enumerate(zip(passage_ids, passage_texts)):\n",
    "        passages_formatted += f\"Passage {idx+1} (ID: {pid}):\\n{text}\\n\\n\"\n",
    "\n",
    "    # have the system generate one question answer pair that is very difficult/numerical and then taken another passage and aask the LLM to generate another question answer pair, thne try and combine the two questions and answers\n",
    "    prompt = f\"\"\"\n",
    "    Given the following passages, generate 1 meaningful question-answer pair.\n",
    "    IMPORTANT: Each question MUST require synthesizing information from ALL passages to answer correctly.\n",
    "    Focus on pharmaceutical and medical aspects. Make the question as difficult and technical as possible.\n",
    "    \n",
    "    {passages_formatted}\n",
    "    \n",
    "    Generate questions in the following format:\n",
    "    1. question: [specific question requiring information from all passages]\n",
    "       answer: [detailed answer synthesizing information from all passages]\n",
    "       text: [{', '.join(passage_ids)}]\n",
    "       table: [None]\n",
    "    \n",
    "    \n",
    "    \"\"\"\n",
    "\n",
    "    # Ensure the question CANNOT be answered using just one passage - it must require connecting information across all provided passages.\n",
    "    \n",
    "    # Call your LLM here with the prompt\n",
    "    response = client.chat.completions.create(\n",
    "        model=model,\n",
    "        messages=[\n",
    "            {\"role\": \"system\", \"content\": \"You are a medical and pharmaceutical expert tasked with generating detailed question-answer pairs about drugs and treatments that require synthesizing information from multiple sources.\"},\n",
    "            {\"role\": \"user\", \"content\": prompt}\n",
    "        ],\n",
    "        temperature=0.7\n",
    "    )\n",
    "\n",
    "    # print(response.choices[0].message.content)\n",
    "    \n",
    "    # Parse the response into structured QA pairs\n",
    "    qa_pairs = parse_llm_response(response.choices[0].message.content, \", \".join(passage_ids))\n",
    "    return qa_pairs\n",
    "\n",
    "def parse_llm_response(response_text, passage_ids):\n",
    "    \"\"\"Parse the LLM response into structured QA pairs\"\"\"\n",
    "    qa_pairs = []\n",
    "    \n",
    "    # Split the response into individual QA entries\n",
    "    entries = response_text.strip().split('\\n\\n')\n",
    "    \n",
    "    for entry in entries:\n",
    "        if not entry.strip():\n",
    "            continue\n",
    "            \n",
    "        lines = entry.strip().split('\\n')\n",
    "        current_qa = {\n",
    "            'question': '',\n",
    "            'answer': '',\n",
    "            'text': passage_ids,\n",
    "            'table': 'None'  # Default value\n",
    "        }\n",
    "        \n",
    "        for line in lines:\n",
    "            line = line.strip()\n",
    "            # Skip empty lines and numbering\n",
    "            if not line or line.replace('.', '').strip().isdigit():\n",
    "                continue\n",
    "                \n",
    "            # Parse each field using more robust splitting\n",
    "            if 'question:' in line:\n",
    "                current_qa['question'] = line.split('question:', 1)[1].strip()\n",
    "            elif 'answer:' in line:\n",
    "                current_qa['answer'] = line.split('answer:', 1)[1].strip()\n",
    "            elif 'text:' in line:\n",
    "                current_qa['text'] = line.split('text:', 1)[1].strip()\n",
    "            elif 'table:' in line:\n",
    "                table_value = line.split('table:', 1)[1].strip()\n",
    "                # Handle NA, N/A, None cases\n",
    "                current_qa['table'] = 'None' if table_value.upper() in ['NA', 'N/A', 'NONE'] else table_value\n",
    "        \n",
    "        # Only add complete QA pairs that have both question and answer\n",
    "        if current_qa['question'] and current_qa['answer']:\n",
    "            qa_pairs.append(current_qa.copy())  # Use copy to avoid reference issues\n",
    "    \n",
    "    return qa_pairs"
   ]
  },
  {
   "cell_type": "code",
   "execution_count": 5,
   "metadata": {},
   "outputs": [],
   "source": [
    "def verify_qa_uses_sources(qa_pair, content, model=\"gpt-4o\"):\n",
    "    # Create prompt for the LLM\n",
    "    prompt = f\"\"\"\n",
    "    Your task is to determine if the provided answer to a question uses information from the passages.\n",
    "    \n",
    "    Question: {qa_pair['question']}\n",
    "    Answer: {qa_pair['answer']}\n",
    "    \n",
    "    Passage Content:\n",
    "    {content}\n",
    "    \n",
    "    Does the answer draw specific information from the passages? Reply with just \"YES\" or \"NO\".\n",
    "    If the answer only uses requires information ourtside of the content provided in the passages, reply \"NO\".\n",
    "    \"\"\"\n",
    "    \n",
    "    # Call the LLM for verification\n",
    "    response = client.chat.completions.create(\n",
    "        model=model,\n",
    "        messages=[\n",
    "            {\"role\": \"system\", \"content\": \"You are a verification expert who determines if answers draw from multiple data sources.\"},\n",
    "            {\"role\": \"user\", \"content\": prompt}\n",
    "        ],\n",
    "        temperature=0.1\n",
    "    )\n",
    "    \n",
    "    verification = response.choices[0].message.content.strip().upper()\n",
    "    return verification\n",
    "    "
   ]
  },
  {
   "cell_type": "code",
   "execution_count": 6,
   "metadata": {},
   "outputs": [],
   "source": [
    "def main():\n",
    "    print(\"Loading target passages...\")\n",
    "    passages = load_target_passages()\n",
    "    \n",
    "    # Load drug grouping file\n",
    "    with open('../grouped_passages_by_drug.json', 'r') as f:\n",
    "        drug_to_passages = json.load(f)\n",
    "    \n",
    "    # Initialize output list\n",
    "    qa_pairs = []\n",
    "    \n",
    "    # Get a list of drug types with multiple passages\n",
    "    drug_types = []\n",
    "    for drug, passage_list in drug_to_passages.items():\n",
    "        if len(passage_list) >= 2:  # Only consider drugs with at least 2 passages\n",
    "            drug_types.append(drug)\n",
    "    \n",
    "    # Limit to a manageable number of drug types (e.g., 10)\n",
    "    selected_drug_types = drug_types[:10]\n",
    "    \n",
    "    for drug_type in selected_drug_types:\n",
    "        # Get passages for this drug type\n",
    "        drug_passages = drug_to_passages[drug_type]\n",
    "        \n",
    "        # Take a pair of different passages about this drug\n",
    "        if len(drug_passages) >= 2:\n",
    "            for i in range(0, min(4, len(drug_passages)), 2):  # Process up to 2 pairs per drug\n",
    "                if i+1 < len(drug_passages):  # Make sure we have a pair\n",
    "                    pair_ids = [drug_passages[i], drug_passages[i+1]]\n",
    "                    pair_texts = [passages[pid] for pid in pair_ids]\n",
    "                    \n",
    "                    print(f\"Generating questions for {drug_type} using passages: {pair_ids}\")\n",
    "                    \n",
    "                    # Generate QA pairs using the pair of passages\n",
    "                    new_qa_pairs = generate_questions_for_passages(\n",
    "                        pair_ids,\n",
    "                        pair_texts\n",
    "                    )\n",
    "\n",
    "                    for qa_pair in new_qa_pairs:\n",
    "                        # Combine passage texts for verification\n",
    "                        combined_passage_text = \"\\n\\n\".join(pair_texts)\n",
    "                        verification = verify_qa_uses_sources(qa_pair, combined_passage_text)\n",
    "                        if verification == \"YES\":\n",
    "                            qa_pairs.append(qa_pair)\n",
    "                        else:\n",
    "                            print(f\"Question: {qa_pair['question']} - Answer: {qa_pair['answer']} - Verification: {verification}\")\n",
    "    \n",
    "    # Save results\n",
    "    with open(OUTPUT_FILE, 'w', newline='') as f:\n",
    "        writer = csv.writer(f, quoting=csv.QUOTE_ALL)\n",
    "        writer.writerow(['question', 'answer', 'text', 'table'])  # header\n",
    "        for qa_pair in qa_pairs:\n",
    "            writer.writerow([\n",
    "                qa_pair['question'],\n",
    "                qa_pair['answer'],\n",
    "                qa_pair['text'],\n",
    "                qa_pair['table']\n",
    "            ])\n",
    "        \n",
    "    print(f\"Generated {len(qa_pairs)} question-answer pairs\")"
   ]
  },
  {
   "cell_type": "code",
   "execution_count": 22,
   "metadata": {},
   "outputs": [],
   "source": [
    "# def main():\n",
    "    \n",
    "#     print(\"Loading target passages...\")\n",
    "#     passages = load_target_passages()\n",
    "    \n",
    "#     # Initialize output list\n",
    "#     qa_pairs = []\n",
    "\n",
    "#     # Convert passages dictionary to lists\n",
    "#     passage_ids = list(passages.keys())[:20]\n",
    "#     passage_texts = [passages[pid] for pid in passage_ids]\n",
    "    \n",
    "    \n",
    "#     # Process passages in pairs\n",
    "#     for i in range(0, len(passage_ids), 2):\n",
    "#     # for i in range(0, len(passage_ids)):\n",
    "#         # if i+2 < len(passage_ids):  # Make sure we have a pair\n",
    "#         if i < len(passage_ids):  # Make sure we have a pair\n",
    "#             pair_ids = [passage_ids[i]]\n",
    "#             pair_texts = [passage_texts[i]]\n",
    "            \n",
    "#             # Generate QA pairs using the pair of passages\n",
    "#             new_qa_pairs = generate_questions_for_passages(\n",
    "#                 pair_ids,\n",
    "#                 pair_texts\n",
    "#             )\n",
    "\n",
    "#             for qa_pair in new_qa_pairs:\n",
    "#                 verification = verify_qa_uses_sources(qa_pair, passage_texts[i])\n",
    "#                 if verification == \"YES\":\n",
    "#                     qa_pairs.append(qa_pair)\n",
    "#                 else:\n",
    "#                     print(f\"Question: {qa_pair['question']} - Answer: {qa_pair['answer']} - Verification: {verification}\")\n",
    "\n",
    "#             # print(new_qa_pairs)\n",
    "#             # qa_pairs.extend(new_qa_pairs)\n",
    "    \n",
    "    \n",
    "#     # Save results\n",
    "#     with open(OUTPUT_FILE, 'w', newline='') as f:\n",
    "#         writer = csv.writer(f, quoting=csv.QUOTE_ALL)\n",
    "#         writer.writerow(['question', 'answer', 'text', 'table'])  # header\n",
    "#         for qa_pair in qa_pairs:\n",
    "#             writer.writerow([\n",
    "#                 qa_pair['question'],\n",
    "#                 qa_pair['answer'],\n",
    "#                 qa_pair['text'],\n",
    "#                 qa_pair['table']\n",
    "#             ])\n",
    "        \n",
    "#     print(f\"Generated {len(qa_pairs)} question-answer pairs\")"
   ]
  },
  {
   "cell_type": "code",
   "execution_count": 31,
   "metadata": {},
   "outputs": [
    {
     "name": "stdout",
     "output_type": "stream",
     "text": [
      "Loading target passages...\n",
      "Generating questions for Leucine using passages: ['Target-10193776', 'Target-10322928']\n",
      "1. question: How does the presence of cardiovascular conditions such as congestive heart failure (CHF) and acute myocardial infarction (AMI) potentially alter the pharmacokinetic profile of cerivastatin through changes in plasma protein binding, and what implications does this have for its efficacy in reducing atherosclerotic lesions?\n",
      "   answer: The presence of cardiovascular conditions such as CHF and AMI can alter the pharmacokinetic profile of cerivastatin through changes in plasma protein binding, specifically involving alpha 1-acid glycoprotein (AGP). In patients with CHF and AMI, AGP levels are elevated, which can affect the binding of drugs to plasma proteins, potentially altering their free concentrations in the serum. Although cerivastatin primarily lowers cholesterol levels and stabilizes atherosclerotic lesions by reducing macrophage infiltration and extracellular lipid deposits, changes in AGP levels could impact its unbound fraction, thereby affecting its pharmacodynamics and efficacy. While cerivastatin was shown to effectively reduce atherosclerotic lesions in WHHL rabbits, similar outcomes in humans with altered AGP levels due to CHF or AMI might require dosage adjustments to maintain therapeutic efficacy.\n",
      "   text: [Target-10193776, Target-10322928]\n",
      "   table: [None]\n",
      "Generating questions for Leucine using passages: ['Target-10385261', 'Target-10406837']\n",
      "1. question: How do verapamil and torasemide differ in their mechanisms of action on calcium channels and vascular smooth muscle cells, and what implications might these differences have for their respective roles in treating hypertension?\n",
      "   answer: Verapamil and torasemide affect calcium channels and vascular smooth muscle cells through distinct mechanisms. Verapamil, primarily known as a calcium channel blocker, inhibits [3H]-dopamine release by targeting P-type, and potentially N- and Q-type calcium channels, as evidenced by its effects on K+- and veratridine-evoked release in rat striatal slices. This suggests its action is linked to modulation of neuronal activity and neurotransmitter release. In contrast, torasemide is a loop diuretic with an additional vasodilatory effect, which it exerts by blocking the vasoconstrictor action of angiotensin II (Ang II) on vascular smooth muscle cells (VSMCs). Torasemide reduces Ang II-induced increases in intracellular calcium concentration ([Ca(2+)](i)) in VSMCs, suggesting its antihypertensive action is partly due to the inhibition of calcium-mediated vasoconstriction. These differences imply that while verapamil primarily affects calcium channels related to neural transmission, torasemide acts directly on vascular smooth muscle cells to mitigate hypertension through vasodilation. Understanding these mechanisms helps tailor treatment strategies for hypertension, focusing on specific pathophysiological aspects of the condition.\n",
      "   text: [Target-10385261, Target-10406837]\n",
      "   table: [None]\n",
      "Generating questions for ATP using passages: ['Target-10421612', 'Target-10513988']\n",
      "1. question: How do the roles of fexofenadine and propafenone analogs in interacting with P-glycoprotein elucidate their mechanisms of action and potential drug-drug interactions in the context of their pharmacokinetic profiles?\n",
      "   answer: Fexofenadine and propafenone analogs both interact with P-glycoprotein (P-gp), but their roles differ significantly, elucidating distinct mechanisms of action and potential drug-drug interactions. Fexofenadine is primarily affected by P-gp as an efflux transporter, which significantly influences its pharmacokinetic profile by limiting its brain and plasma concentrations, as evidenced by increased levels in P-gp deficient mice. This suggests that P-gp inhibitors could increase fexofenadine's bioavailability and distribution. On the other hand, propafenone analogs are potent inhibitors of P-gp-mediated efflux, affecting the transport of various substrates, including toxins. Their activity is modulated by their lipophilicity and hydrogen bond acceptor strength, which correlate with their ability to stimulate Pgp ATPase activity. The structure-activity relationship indicates that tertiary analogs have stronger interactions with P-gp compared to quaternary analogs. This suggests that propafenone analogs could potentially alter the pharmacokinetics of co-administered drugs that are P-gp substrates by inhibiting their efflux, leading to increased exposure. The interaction of both drugs with P-gp highlights the importance of considering P-gp in their pharmacokinetic profiles and potential drug-drug interactions. \n",
      "   text: [Target-10421612, Target-10513988]\n",
      "   table: [None]\n",
      "Generating questions for ATP using passages: ['Target-10571255', 'Target-10604964']\n",
      "1. question: How do carvedilol and P-glycoprotein (P-gp) inhibition affect the metabolism and efficacy of chemotherapy drugs like doxorubicin and HIV protease inhibitors like indinavir during their cellular transport and absorption?\n",
      "   answer: Carvedilol, by inhibiting P-glycoprotein (P-gp), enhances the cytotoxicity of doxorubicin in P-gp-expressing cancer cells by increasing the intracellular concentration of the drug, thereby reducing its LD50 significantly. This suggests that carvedilol could potentially reverse multidrug resistance (MDR) in tumors by blocking drug efflux. In contrast, in the context of intestinal absorption as demonstrated with indinavir, P-gp plays a role in the directional transport and presystemic metabolism of drugs. While P-gp-mediated efflux facilitates the removal of CYP3A4-generated metabolites, inhibition of P-gp with agents like cyclosporin A did not significantly alter indinavir metabolism. However, the presence of P-gp results in a higher ratio of metabolites produced per drug absorbed, indicating that P-gp's function extends beyond mere transport to influencing drug metabolism. Thus, P-gp inhibition by carvedilol may enhance the efficacy of chemotherapy by preventing drug efflux, while its role in drug metabolism, as seen with indinavir, could be complex, potentially altering drug bioavailability and efficacy.\n",
      "   text: [Target-10571255, Target-10604964]\n",
      "   table: [None]\n",
      "Generating questions for Proline using passages: ['Target-10048600', 'Target-10064574']\n",
      "1. question: How do the cytochrome P450 enzymes involved in the metabolism of risperidone and fluvastatin affect the potential for drug-drug interactions when these medications are coadministered, considering their metabolic pathways and enzyme inhibitors?\n",
      "\n",
      "   answer: Risperidone is primarily metabolized to its active form, 9-hydroxyrisperidone, by cytochrome P450 enzymes CYP2D6, CYP3A4, and CYP3A5. Fluvastatin is metabolized by CYP2C9 and to a lesser extent by CYP3A4, CYP2C8, and other enzymes. The involvement of CYP3A4 in the metabolism of both risperidone and fluvastatin suggests a potential for competitive inhibition if the drugs are coadministered, particularly since ketoconazole, a CYP3A4 inhibitor, reduces the formation of 9-hydroxyrisperidone. However, fluvastatin primarily undergoes metabolism via CYP2C9, and any coadministered drug that inhibits CYP2C9 would only partially reduce its clearance, minimizing significant drug-drug interactions. Thus, while there is a shared pathway via CYP3A4, the predominant role of CYP2C9 in fluvastatin metabolism and the specific inhibitors for each pathway suggest that serious metabolic interactions are unlikely, but monitoring is advisable when these medications are taken together.\n",
      "\n",
      "   text: [Target-10048600, Target-10064574]\n",
      "\n",
      "   table: [None]\n",
      "Generating questions for Proline using passages: ['Target-10067800', 'Target-10192828']\n",
      "1. question: How might the use of telmisartan in elderly patients with hypertension be affected by concurrent administration of venlafaxine, considering their metabolic pathways and potential drug interactions?\n",
      "   answer: The use of telmisartan in elderly patients with hypertension could potentially be affected by concurrent administration of venlafaxine due to the involvement of cytochrome P450 enzymes in the metabolism of both drugs. Telmisartan is primarily metabolized by the liver, though specific CYP enzyme interactions are less documented in the provided passage, it is conceivable that, like many drugs, CYP enzymes could be involved. Venlafaxine is extensively metabolized by CYP2D6 and CYP3A4, among others. Inhibitors of these enzymes, such as paroxetine for CYP2D6 and ketoconazole for CYP3A4, could alter the metabolism of venlafaxine, potentially leading to increased plasma levels of venlafaxine or its metabolites, which might exacerbate side effects such as hypertension. If venlafaxine metabolism is inhibited, this could cause increased blood pressure, which telmisartan is used to manage. Furthermore, any competition or inhibition at the CYP level could theoretically alter the efficacy of telmisartan if the same enzymes are involved. Thus, while telmisartan is well tolerated, the addition of venlafaxine, which is subject to significant CYP-mediated metabolism, necessitates monitoring for potential drug-drug interactions that could impact the antihypertensive efficacy of telmisartan.\n",
      "   text: [Target-10067800, Target-10192828]\n",
      "   table: [None]\n",
      "Generating questions for Bosentan using passages: ['Target-11309550', 'Target-11447307']\n",
      "1. question: How does the mechanism of action of bosentan as an endothelin receptor antagonist relate to its potential side effects and therapeutic effects in the treatment of chronic heart failure?\n",
      "\n",
      "   answer: Bosentan, an endothelin receptor antagonist, targets both the ET(A) and ET(B) receptors to mitigate the effects of endothelin-1, a potent vasoconstrictor implicated in the pathophysiology of chronic heart failure. The therapeutic effects of bosentan in heart failure, observed as improved hemodynamics and reduced neurohormonal activation, are attributed to its ability to counteract endothelin-1-mediated vasoconstriction and to lower plasma aldosterone levels. However, bosentan's potential side effects, including liver injury, are linked to its inhibition of the bile salt export pump (BSEP), leading to the accumulation of cytotoxic bile salts in the liver. This mechanism of action underscores the need for careful monitoring of liver function during bosentan therapy, as the drug's cholestatic effects could be exacerbated by concomitant administration with other drugs like glyburide. Therefore, while bosentan holds promise for treating chronic heart failure, its use must be balanced with the risk of drug-induced liver injury.\n",
      "\n",
      "   text: [Target-11309550, Target-11447307]\n",
      "\n",
      "   table: [None]\n",
      "Generating questions for Bosentan using passages: ['Target-12603176', 'Target-20133511']\n",
      "1. question: How does the co-administration of bosentan affect the pharmacokinetics of simvastatin and treprostinil, and what are the implications on their therapeutic use for conditions like pulmonary arterial hypertension (PAH)?\n",
      "   answer: The co-administration of bosentan with simvastatin significantly reduces the exposure to simvastatin and its active metabolite, beta-hydroxyacid simvastatin, by approximately 40%. This reduction is due to bosentan's induction of the cytochrome P450 enzyme CYP3A4, which is responsible for the metabolism of simvastatin. On the other hand, when bosentan is co-administered with treprostinil, there is no significant pharmacokinetic interaction observed. The geometric mean ratios for treprostinil's steady-state AUC(0-12) and C(max) remain within the equivalence interval, indicating no effect on its exposure. Therefore, while bosentan's induction of CYP3A4 affects simvastatin's metabolism and could potentially reduce its efficacy in lowering cholesterol, it does not significantly alter the pharmacokinetics of treprostinil. This suggests that bosentan can be co-administered with treprostinil without adjusting doses, maintaining its therapeutic efficacy for PAH treatment.\n",
      "   text: [Target-12603176, Target-20133511]\n",
      "   table: [None]\n",
      "Generating questions for Glyburide using passages: ['Target-10773014', 'Target-11309550']\n",
      "1. question: How do the pharmacodynamic interactions of nateglinide at the K(ATP) channel compare to potential interactions between bosentan and glyburide in terms of their effects on cellular transport mechanisms and resulting metabolic consequences in humans and animal models?\n",
      "   answer: Nateglinide, an amino acid derivative with insulinotropic action, interacts directly with K(ATP) channels, resulting in a rapid onset and reversal of channel inhibition, as observed through patch-clamp techniques in rat pancreatic beta-cells. This suggests a competitive binding mechanism at the glibenclamide site on the sulfonylurea receptor, leading to its hypoglycemic effects. In contrast, bosentan, an endothelin receptor antagonist, is associated with cholestatic liver injury due to its inhibition of the BSEP, a bile salt export pump, thereby causing intracellular accumulation of cytotoxic bile salts. The concomitant administration of glyburide enhances bosentan's cholestatic potency, indicating a possible drug interaction that exacerbates liver cell damage by further inhibiting bile salt transport. Thus, while nateglinide's primary interaction and metabolic consequence is the modulation of insulin secretion via K(ATP) channels, bosentan's interaction with glyburide impacts bile acid transport and liver function, highlighting distinct cellular transport mechanisms and metabolic outcomes between the two drug interactions.\n",
      "   text: [Target-10773014, Target-11309550]\n",
      "   table: [None]\n",
      "Generating questions for Glyburide using passages: ['Target-11325810', 'Target-11334262']\n",
      "1. question: How does the interaction of glimepiride with recombinant K(ATP) channels and its potential for drug-drug interactions compare to the effects of omeprazole and cimetidine on cytochrome P450 enzymes, particularly considering their impact on the metabolism of glibenclamide?\n",
      "   answer: Glimepiride is a high-affinity sulphonylurea that inhibits recombinant K(ATP) channels by interacting with the sulphonylurea receptor subunit, showing different affinities for SUR1, SUR2A, and SUR2B isoforms (IC(50) = 3.0 nM, 5.4 nM, and 7.3 nM, respectively). This inhibition is similar to that of glibenclamide, another sulphonylurea. In contrast, omeprazole and cimetidine, both cytochrome P450 enzyme inhibitors, affect drug metabolism differently: omeprazole inhibits the metabolism of glibenclamide with a Ki of 11.7 μM, while cimetidine inhibits it with a Ki of 11.6 μM. Therefore, when considering the potential for drug-drug interactions, particularly in combination with glibenclamide, the inhibition of CYP enzymes by cimetidine and omeprazole can influence the metabolic clearance of glibenclamide, unlike glimepiride, which directly targets K(ATP) channels. This comparison highlights the importance of considering both direct channel inhibition and enzymatic inhibition when evaluating drug interactions.\n",
      "   text: [Target-11325810, Target-11334262]\n",
      "   table: [None]\n",
      "Generating questions for Artesunate using passages: ['Target-10027850', 'Target-10048009']\n",
      "1. question: How might the mechanism of action of the 5-HT1A receptor agonist alnespirone, which modulates aggressive behavior via serotonin pathways, conceptually relate to the use of the carbonic anhydrase inhibitor dorzolamide hydrochloride in managing intraocular pressure changes post-Nd:YAG-laser-capsulotomy?\n",
      "   answer: Alnespirone acts as a selective 5-HT1A receptor agonist, primarily affecting serotonergic pathways to modulate aggressive behavior without significantly impairing motor functions or social interest, suggesting a highly targeted neurochemical approach. This specificity in targeting serotonin receptors can be conceptually paralleled to the targeted mechanism of dorzolamide hydrochloride, a carbonic anhydrase-II inhibitor, in ophthalmic applications. Dorzolamide lowers intraocular pressure by reducing aqueous humor production in the eye, which is crucial after procedures like Nd:YAG-laser-capsulotomy that risk increasing intraocular pressure. Both drugs, despite acting on different physiological systems, exemplify targeted therapeutic strategies to modulate specific physiological outcomes—serotonin pathway modulation for behavioral control in the case of alnespirone, and carbonic anhydrase inhibition for ocular pressure management in the case of dorzolamide.\n",
      "   text: [Target-10027850, Target-10048009]\n",
      "   table: [None]\n",
      "Generating questions for Artesunate using passages: ['Target-10064574', 'Target-10067800']\n",
      "1. question: How might the coadministration of fluvastatin and telmisartan affect metabolic drug interactions and blood pressure control in elderly patients with mild to moderate hypertension?\n",
      "   answer: The coadministration of fluvastatin and telmisartan in elderly patients with mild to moderate hypertension is unlikely to result in significant metabolic drug interactions or adversely affect blood pressure control. Fluvastatin is primarily metabolized by the CYP2C9 enzyme, and although it interacts with CYP2C9 inhibitors, the potential for serious metabolic drug interactions is minimal due to the partial involvement of other cytochrome P-450 enzymes. Telmisartan, an AT1 receptor antagonist, does not primarily interact with cytochrome P-450 enzymes, suggesting that its antihypertensive efficacy would not be compromised by the presence of fluvastatin. Therefore, both drugs can be effectively used together to manage hypertension without significant concerns for adverse metabolic reactions.\n",
      "   text: [Target-10064574, Target-10067800]\n",
      "   table: [None]\n",
      "Generating questions for Taurocholic acid using passages: ['Target-11309550', 'Target-11408557']\n",
      "1. question: How might the inhibition of organic anion transporters at the blood-brain barrier (BBB) by taurocholate contribute to the pharmacological and toxicological effects of bosentan, considering its impact on bile salt export and liver injury?\n",
      "   answer: Taurocholate, known to inhibit organic anion transporters such as Oatp1 and Oatp2, can potentially affect the pharmacokinetics of drugs like bosentan which also interacts with bile salt transport mechanisms. Bosentan is known to inhibit the BSEP (ABCB11) responsible for bile salt export in the liver, leading to intracellular accumulation of bile salts and subsequent liver injury. If taurocholate inhibits other organic anion transporters at the BBB, it may similarly influence the transport and clearance of bosentan in the brain, potentially altering its systemic concentration and enhancing its hepatotoxic effects. This interaction highlights a complex interplay between drug transport mechanisms at different physiological barriers, emphasizing the importance of considering transporter-mediated drug-drug interactions in both hepatic and central nervous system contexts.\n",
      "   text: [Target-11309550, Target-11408557]\n",
      "   table: [None]\n",
      "Generating questions for Taurocholic acid using passages: ['Target-17510552', 'Target-9322525']\n",
      "1. question: How might the combined understanding of tegaserod's mechanism of action and the cholestatic drug delivery system enhance the therapeutic strategies for treating conditions involving serotonin dysregulation and hepatocellular carcinomas?\n",
      "   answer: Tegaserod is known to function as a selective partial agonist of serotonin receptor type 4 (5-HT4) and also inhibits serotonin reuptake by acting on the serotonin transporter (SERT), thereby enhancing local serotonin concentrations in the gut wall. This dual mechanism suggests that it can exert a prokinetic effect by both directly stimulating serotonin receptors and preventing serotonin reuptake. In the context of hepatocellular carcinomas, a strategy involving the coupling of cytostatic drugs with bile acids, like the Na(+)-taurocholate-cotransporting polypeptide (NTCP)-mediated uptake of chlorambucil-taurocholate, offers targeted drug delivery to tumor cells. By understanding tegaserod's ability to modulate serotonin levels, it may be possible to explore similar transporter-mediated delivery systems for drugs that could correct serotonin dysregulation in gastrointestinal disorders or even enhance the uptake of therapeutic agents in liver cancer cells, potentially through conjugation with bile acids for targeted delivery.\n",
      "   text: [Target-17510552, Target-9322525]\n",
      "   table: [None]\n",
      "Generating questions for Aminohippuric acid using passages: ['Target-10945832', 'Target-10991988']\n",
      "1. question: How does the interaction of antiviral nucleoside analogs and diuretics with the organic anion transporter 1 (OAT1) in Xenopus laevis oocytes contribute to their pharmacokinetics, and what role does probenecid play in modulating this interaction?\n",
      "   \n",
      "   answer: Antiviral nucleoside analogs such as zidovudine (AZT) and acyclovir (ACV) are transported by the organic anion transporter 1 (OAT1) located in the basolateral membrane of proximal tubular cells. These compounds, despite lacking typical anionic groups, are taken up by OAT1 in a manner sensitive to probenecid, which suggests that probenecid can inhibit their transport by OAT1, potentially affecting their pharmacokinetics. Similarly, diuretics such as acetazolamide, thiazides, and loop diuretics like furosemide also interact with OAT1, where their uptake or secretion is influenced by this transporter. Probenecid inhibits OAT1-mediated uptake of diuretics, suggesting a modulatory role. Thus, probenecid can alter the renal clearance and overall pharmacokinetics of both antiviral agents and diuretics by inhibiting their transport via OAT1.\n",
      "   \n",
      "   text: [Target-10945832, Target-10991988]\n",
      "   table: [None]\n",
      "Generating questions for Aminohippuric acid using passages: ['Target-10992002', 'Target-11408557']\n",
      "1. question: How does the presence of cyclosporin A affect the transport of grepafloxacin and levofloxacin across Caco-2 cell monolayers, and what role do organic anion transporters play in this process compared to their role in the efflux of 17beta-estradiol-D-17beta-glucuronide across the blood-brain barrier?\n",
      "\n",
      "   answer: In the presence of cyclosporin A, the transport of grepafloxacin and levofloxacin across Caco-2 cell monolayers is primarily mediated by P-glycoprotein rather than by organic anion transporters, as indicated by the lack of effect of organic anion transporter modulators like probenecid and p-aminohippurate. This contrasts with the efflux of 17beta-estradiol-D-17beta-glucuronide across the blood-brain barrier, where organic anion transporters, specifically the Oatp2 and Oat family, play a significant role, contributing to about 40% and 20% of the total efflux, respectively, as evidenced by the inhibitory effects of probenecid and taurocholate. Thus, while organic anion transporters are crucial for the efflux of certain substrates across the blood-brain barrier, they do not significantly impact the transport of grepafloxacin and levofloxacin in the intestinal model studied.\n",
      "\n",
      "   text: [Target-10992002, Target-11408557]\n",
      "\n",
      "   table: [None]\n",
      "Generating questions for Treprostinil using passages: ['Target-20133511', 'Target-30485728']\n",
      "1. question: How does the co-administration of oral treprostinil and bosentan affect the pharmacokinetics of treprostinil, and what additional benefits might treprostinil offer in terms of cellular activity in PAH patients?\n",
      "   answer: Co-administration of oral treprostinil and bosentan does not significantly alter the pharmacokinetics of treprostinil, as indicated by the geometric mean ratios (GMRs) for steady-state AUC(0-12) and C(max), which fall within the equivalence interval of 0.8 to 1.25. In addition to its role as a vasodilator, treprostinil may also provide benefits by reducing platelet activation and the procoagulant activity of circulating microvesicles (MVs) in pediatric PAH patients. This is evidenced by significantly lower platelet MV counts and decreased phospholipid procoagulant activity in patients treated with treprostinil, compared to untreated patients or those receiving oral vasodilator therapies.\n",
      "   text: [Target-20133511, Target-30485728]\n",
      "   table: [None]\n",
      "Generating questions for Epoprostenol using passages: ['Target-15667901', 'Target-20133511']\n",
      "1. question: How might the co-administration of celecoxib and treprostinil diethanolamine affect prostanoid release and contractility in conditions involving ureteral obstruction and pulmonary arterial hypertension, considering their metabolic pathways and effects on prostanoid synthesis?\n",
      "   answer: Celecoxib, a COX-2 inhibitor, and treprostinil diethanolamine, a prostacyclin analog, both influence prostanoid pathways but via different mechanisms. Celecoxib inhibits prostanoid release and ureteral contractility by blocking COX-2, which reduces the synthesis of prostaglandins like PGE2 and PGF2alpha, even in the presence of TNF-alpha. Treprostinil, on the other hand, is a prostacyclin analog that is primarily metabolized by CYP2C8 and can be co-administered with bosentan without significant pharmacokinetic interactions, as shown by the stable geometric mean ratios for both drugs. When considering their combined effect, celecoxib may reduce the production of certain prostanoids, potentially altering the vasodilatory and anti-thrombotic effects of treprostinil. However, treprostinil's action on pulmonary arterial hypertension via prostacyclin pathways could complement celecoxib's anti-inflammatory effects, offering a dual approach in managing conditions with both ureteral obstruction and PAH, provided that individual metabolic interactions do not adversely affect drug efficacy.\n",
      "   text: [Target-15667901, Target-20133511]\n",
      "   table: [None]\n",
      "Generated 15 question-answer pairs\n"
     ]
    }
   ],
   "source": [
    "if __name__ == \"__main__\":\n",
    "    main()"
   ]
  },
  {
   "cell_type": "code",
   "execution_count": 32,
   "metadata": {},
   "outputs": [],
   "source": [
    "\n",
    "def load_ground_truth(gt_file: str):\n",
    "    \"\"\"Load ground truth data from CSV file.\"\"\"\n",
    "    gt_data = []\n",
    "    with open(gt_file, 'r', encoding='utf-8') as f:\n",
    "        reader = csv.DictReader(f)\n",
    "        for row in reader:\n",
    "            gt_data.append(row)\n",
    "    return gt_data\n",
    "\n",
    "def generate_llm_answer(question: str, model: str = \"gpt-4o\"):\n",
    "    \"\"\"\n",
    "    Generate an answer to a question using an LLM.\n",
    "    \n",
    "    Args:\n",
    "        question: The question to answer\n",
    "        model: Model to use for generation\n",
    "        \n",
    "    Returns:\n",
    "        The generated answer\n",
    "    \"\"\"\n",
    "    try:\n",
    "        # Create a simple prompt with just the question\n",
    "        prompt = f\"Answer this question with detailed information: {question}\"\n",
    "        print(f\"Prompt: {prompt}\")\n",
    "        \n",
    "        # Call OpenAI API\n",
    "        response = client.chat.completions.create(\n",
    "            model=model,\n",
    "            messages=[{\"role\": \"user\", \"content\": prompt}],\n",
    "            temperature=0.0,  # Use low temperature for more consistent answers\n",
    "            max_tokens=500\n",
    "        )\n",
    "        \n",
    "        # Extract the response text\n",
    "        return response.choices[0].message.content.strip()\n",
    "            \n",
    "    except Exception as e:\n",
    "        print(f\"Error generating answer: {e}\")\n",
    "        time.sleep(2)  # Sleep to handle rate limits\n",
    "        return \"\"\n",
    "\n",
    "def calculate_llm_correctness(hypothesis: str, reference: str, question: str, model: str = \"gpt-4o\"):\n",
    "    \"\"\"\n",
    "    Use an LLM to evaluate the correctness of the hypothesis compared to the reference.\n",
    "    \n",
    "    Args:\n",
    "        hypothesis: The system-generated answer\n",
    "        reference: The ground truth answer\n",
    "        question: The original question\n",
    "        model: Model to use for evaluation\n",
    "        \n",
    "    Returns:\n",
    "        A score between 0 and 1 representing correctness (1 = fully correct, 0 = incorrect)\n",
    "    \"\"\"\n",
    "    try:\n",
    "        # Create prompt for the LLM\n",
    "        prompt = f\"\"\"\n",
    "You are an expert evaluator assessing the correctness of an answer to a question.\n",
    "\n",
    "Question: {question}\n",
    "\n",
    "Ground Truth Answer: {reference}\n",
    "\n",
    "System Answer: {hypothesis}\n",
    "\n",
    "Evaluate how correct the System Answer is compared to the Ground Truth Answer. Be very critical in your evaluation/analysis.\n",
    "Give a score from 0 to 1 where:\n",
    "- 1.0 means the System Answer is fully correct and contains all the information from the Ground Truth\n",
    "- 0.0 means the System Answer is completely incorrect\n",
    "- Values between 0 and 1 indicate partial correctness\n",
    "\n",
    "Output a single line with just the score as a decimal between 0 and 1.\n",
    "\"\"\"\n",
    "\n",
    "        # Call OpenAI API\n",
    "        response = client.chat.completions.create(\n",
    "            model=model,\n",
    "            messages=[{\"role\": \"user\", \"content\": prompt}],\n",
    "            temperature=0.0,  # Use low temperature for more consistent evaluations\n",
    "            max_tokens=300\n",
    "        )\n",
    "        \n",
    "        # Extract the response text\n",
    "        response_text = response.choices[0].message.content.strip()\n",
    "        \n",
    "        # Extract the score from the response - find the last number between 0 and 1\n",
    "        score_matches = re.findall(r'(?:^|\\s)(0(?:\\.\\d+)?|1(?:\\.0+)?)(?:$|\\s)', response_text)\n",
    "        if score_matches:\n",
    "            score = float(score_matches[-1])  # Take the last match as the final score\n",
    "            return min(max(score, 0.0), 1.0)  # Ensure score is between 0 and 1\n",
    "        else:\n",
    "            print(f\"Could not extract a score from LLM response: {response_text}\")\n",
    "            return 0.0\n",
    "            \n",
    "    except Exception as e:\n",
    "        print(f\"Error in LLM evaluation: {e}\")\n",
    "        time.sleep(2)  # Sleep to handle rate limits\n",
    "        return 0.0\n",
    "\n",
    "def filter_qa_pairs(gt_data,  llm_model: str = \"gpt-4o\", threshold: float = 0.5):\n",
    "    \"\"\"\n",
    "    Filter question-answer pairs based on LLM correctness score.\n",
    "    \n",
    "    Args:\n",
    "        gt_data: List of dictionaries containing ground truth data\n",
    "        llm_model: Model to use for generation and evaluation\n",
    "        threshold: Correctness threshold above which pairs are removed\n",
    "        \n",
    "    Returns:\n",
    "        Filtered list of dictionaries\n",
    "    \"\"\"\n",
    "    filtered_data = []\n",
    "    \n",
    "    for qa_pair in tqdm(gt_data, desc=\"Filtering QA pairs\"):\n",
    "        question = qa_pair['question']\n",
    "        reference_answer = qa_pair['answer']\n",
    "        \n",
    "        # Generate an answer using just the question\n",
    "        llm_answer = generate_llm_answer(question)\n",
    "        \n",
    "        # If we couldn't get an answer, keep the pair\n",
    "        if not llm_answer:\n",
    "            filtered_data.append(qa_pair)\n",
    "            continue\n",
    "        \n",
    "        # Evaluate the correctness\n",
    "        correctness_score = calculate_llm_correctness(\n",
    "            llm_answer, reference_answer, question\n",
    "        )\n",
    "        \n",
    "        print(f\"Question: {question}\")\n",
    "        print(f\"LLM Answer: {llm_answer[:100]}...\")\n",
    "        print(f\"Correctness Score: {correctness_score}\")\n",
    "        \n",
    "        # Keep pairs that the LLM couldn't answer correctly\n",
    "        if correctness_score <= threshold:\n",
    "            filtered_data.append(qa_pair)\n",
    "    \n",
    "    return filtered_data\n",
    "\n",
    "def save_filtered_data(filtered_data, output_file):\n",
    "    \"\"\"Save filtered data to a CSV file.\"\"\"\n",
    "    if not filtered_data:\n",
    "        print(\"No data to save!\")\n",
    "        return\n",
    "    \n",
    "    with open(output_file, 'w', newline='', encoding='utf-8') as f:\n",
    "        writer = csv.DictWriter(f, fieldnames=filtered_data[0].keys(), quoting=csv.QUOTE_ALL)\n",
    "        writer.writeheader()\n",
    "        for row in filtered_data:\n",
    "            writer.writerow(row)\n",
    "    \n"
   ]
  },
  {
   "cell_type": "code",
   "execution_count": 33,
   "metadata": {},
   "outputs": [
    {
     "name": "stdout",
     "output_type": "stream",
     "text": [
      "Loading ground truth data\n",
      "Loaded 15 QA pairs\n"
     ]
    },
    {
     "name": "stderr",
     "output_type": "stream",
     "text": [
      "Filtering QA pairs:   0%|          | 0/15 [00:00<?, ?it/s]"
     ]
    },
    {
     "name": "stdout",
     "output_type": "stream",
     "text": [
      "Prompt: Answer this question with detailed information: How does the presence of cardiovascular conditions such as congestive heart failure (CHF) and acute myocardial infarction (AMI) potentially alter the pharmacokinetic profile of cerivastatin through changes in plasma protein binding, and what implications does this have for its efficacy in reducing atherosclerotic lesions?\n"
     ]
    },
    {
     "name": "stderr",
     "output_type": "stream",
     "text": [
      "Filtering QA pairs:   7%|▋         | 1/15 [00:09<02:15,  9.65s/it]"
     ]
    },
    {
     "name": "stdout",
     "output_type": "stream",
     "text": [
      "Question: How does the presence of cardiovascular conditions such as congestive heart failure (CHF) and acute myocardial infarction (AMI) potentially alter the pharmacokinetic profile of cerivastatin through changes in plasma protein binding, and what implications does this have for its efficacy in reducing atherosclerotic lesions?\n",
      "LLM Answer: The pharmacokinetic profile of cerivastatin, like many other drugs, can be significantly influenced ...\n",
      "Correctness Score: 0.7\n",
      "Prompt: Answer this question with detailed information: How do verapamil and torasemide differ in their mechanisms of action on calcium channels and vascular smooth muscle cells, and what implications might these differences have for their respective roles in treating hypertension?\n"
     ]
    },
    {
     "name": "stderr",
     "output_type": "stream",
     "text": [
      "Filtering QA pairs:  13%|█▎        | 2/15 [00:18<01:55,  8.92s/it]"
     ]
    },
    {
     "name": "stdout",
     "output_type": "stream",
     "text": [
      "Question: How do verapamil and torasemide differ in their mechanisms of action on calcium channels and vascular smooth muscle cells, and what implications might these differences have for their respective roles in treating hypertension?\n",
      "LLM Answer: Verapamil and torasemide are both used in the management of hypertension, but they have distinct mec...\n",
      "Correctness Score: 0.6\n",
      "Prompt: Answer this question with detailed information: How do the roles of fexofenadine and propafenone analogs in interacting with P-glycoprotein elucidate their mechanisms of action and potential drug-drug interactions in the context of their pharmacokinetic profiles?\n"
     ]
    },
    {
     "name": "stderr",
     "output_type": "stream",
     "text": [
      "Filtering QA pairs:  20%|██        | 3/15 [00:29<02:00, 10.05s/it]"
     ]
    },
    {
     "name": "stdout",
     "output_type": "stream",
     "text": [
      "Question: How do the roles of fexofenadine and propafenone analogs in interacting with P-glycoprotein elucidate their mechanisms of action and potential drug-drug interactions in the context of their pharmacokinetic profiles?\n",
      "LLM Answer: Fexofenadine and propafenone are two drugs that interact with P-glycoprotein (P-gp), a crucial efflu...\n",
      "Correctness Score: 0.6\n",
      "Prompt: Answer this question with detailed information: How do carvedilol and P-glycoprotein (P-gp) inhibition affect the metabolism and efficacy of chemotherapy drugs like doxorubicin and HIV protease inhibitors like indinavir during their cellular transport and absorption?\n"
     ]
    },
    {
     "name": "stderr",
     "output_type": "stream",
     "text": [
      "Filtering QA pairs:  27%|██▋       | 4/15 [00:37<01:41,  9.21s/it]"
     ]
    },
    {
     "name": "stdout",
     "output_type": "stream",
     "text": [
      "Question: How do carvedilol and P-glycoprotein (P-gp) inhibition affect the metabolism and efficacy of chemotherapy drugs like doxorubicin and HIV protease inhibitors like indinavir during their cellular transport and absorption?\n",
      "LLM Answer: Carvedilol is a non-selective beta-blocker with additional alpha-blocking activity, commonly used to...\n",
      "Correctness Score: 0.7\n",
      "Prompt: Answer this question with detailed information: How might the use of telmisartan in elderly patients with hypertension be affected by concurrent administration of venlafaxine, considering their metabolic pathways and potential drug interactions?\n"
     ]
    },
    {
     "name": "stderr",
     "output_type": "stream",
     "text": [
      "Filtering QA pairs:  33%|███▎      | 5/15 [00:46<01:32,  9.21s/it]"
     ]
    },
    {
     "name": "stdout",
     "output_type": "stream",
     "text": [
      "Question: How might the use of telmisartan in elderly patients with hypertension be affected by concurrent administration of venlafaxine, considering their metabolic pathways and potential drug interactions?\n",
      "LLM Answer: Telmisartan and venlafaxine are two medications that may be prescribed concurrently in elderly patie...\n",
      "Correctness Score: 0.7\n",
      "Prompt: Answer this question with detailed information: How does the co-administration of bosentan affect the pharmacokinetics of simvastatin and treprostinil, and what are the implications on their therapeutic use for conditions like pulmonary arterial hypertension (PAH)?\n"
     ]
    },
    {
     "name": "stderr",
     "output_type": "stream",
     "text": [
      "Filtering QA pairs:  40%|████      | 6/15 [00:56<01:24,  9.42s/it]"
     ]
    },
    {
     "name": "stdout",
     "output_type": "stream",
     "text": [
      "Question: How does the co-administration of bosentan affect the pharmacokinetics of simvastatin and treprostinil, and what are the implications on their therapeutic use for conditions like pulmonary arterial hypertension (PAH)?\n",
      "LLM Answer: The co-administration of bosentan, a dual endothelin receptor antagonist used primarily in the treat...\n",
      "Correctness Score: 0.7\n",
      "Prompt: Answer this question with detailed information: How do the pharmacodynamic interactions of nateglinide at the K(ATP) channel compare to potential interactions between bosentan and glyburide in terms of their effects on cellular transport mechanisms and resulting metabolic consequences in humans and animal models?\n"
     ]
    },
    {
     "name": "stderr",
     "output_type": "stream",
     "text": [
      "Filtering QA pairs:  47%|████▋     | 7/15 [01:07<01:20, 10.12s/it]"
     ]
    },
    {
     "name": "stdout",
     "output_type": "stream",
     "text": [
      "Question: How do the pharmacodynamic interactions of nateglinide at the K(ATP) channel compare to potential interactions between bosentan and glyburide in terms of their effects on cellular transport mechanisms and resulting metabolic consequences in humans and animal models?\n",
      "LLM Answer: To understand the pharmacodynamic interactions of nateglinide at the K(ATP) channel and compare them...\n",
      "Correctness Score: 0.5\n",
      "Prompt: Answer this question with detailed information: How does the interaction of glimepiride with recombinant K(ATP) channels and its potential for drug-drug interactions compare to the effects of omeprazole and cimetidine on cytochrome P450 enzymes, particularly considering their impact on the metabolism of glibenclamide?\n"
     ]
    },
    {
     "name": "stderr",
     "output_type": "stream",
     "text": [
      "Filtering QA pairs:  53%|█████▎    | 8/15 [01:15<01:04,  9.23s/it]"
     ]
    },
    {
     "name": "stdout",
     "output_type": "stream",
     "text": [
      "Question: How does the interaction of glimepiride with recombinant K(ATP) channels and its potential for drug-drug interactions compare to the effects of omeprazole and cimetidine on cytochrome P450 enzymes, particularly considering their impact on the metabolism of glibenclamide?\n",
      "LLM Answer: Glimepiride, omeprazole, and cimetidine are drugs that interact with different biological systems an...\n",
      "Correctness Score: 0.5\n",
      "Prompt: Answer this question with detailed information: How might the mechanism of action of the 5-HT1A receptor agonist alnespirone, which modulates aggressive behavior via serotonin pathways, conceptually relate to the use of the carbonic anhydrase inhibitor dorzolamide hydrochloride in managing intraocular pressure changes post-Nd:YAG-laser-capsulotomy?\n"
     ]
    },
    {
     "name": "stderr",
     "output_type": "stream",
     "text": [
      "Filtering QA pairs:  60%|██████    | 9/15 [01:25<00:57,  9.66s/it]"
     ]
    },
    {
     "name": "stdout",
     "output_type": "stream",
     "text": [
      "Question: How might the mechanism of action of the 5-HT1A receptor agonist alnespirone, which modulates aggressive behavior via serotonin pathways, conceptually relate to the use of the carbonic anhydrase inhibitor dorzolamide hydrochloride in managing intraocular pressure changes post-Nd:YAG-laser-capsulotomy?\n",
      "LLM Answer: To explore the conceptual relationship between the mechanism of action of the 5-HT1A receptor agonis...\n",
      "Correctness Score: 0.7\n",
      "Prompt: Answer this question with detailed information: How might the coadministration of fluvastatin and telmisartan affect metabolic drug interactions and blood pressure control in elderly patients with mild to moderate hypertension?\n"
     ]
    },
    {
     "name": "stderr",
     "output_type": "stream",
     "text": [
      "Filtering QA pairs:  67%|██████▋   | 10/15 [01:34<00:46,  9.39s/it]"
     ]
    },
    {
     "name": "stdout",
     "output_type": "stream",
     "text": [
      "Question: How might the coadministration of fluvastatin and telmisartan affect metabolic drug interactions and blood pressure control in elderly patients with mild to moderate hypertension?\n",
      "LLM Answer: The coadministration of fluvastatin and telmisartan in elderly patients with mild to moderate hypert...\n",
      "Correctness Score: 0.7\n",
      "Prompt: Answer this question with detailed information: How might the inhibition of organic anion transporters at the blood-brain barrier (BBB) by taurocholate contribute to the pharmacological and toxicological effects of bosentan, considering its impact on bile salt export and liver injury?\n"
     ]
    },
    {
     "name": "stderr",
     "output_type": "stream",
     "text": [
      "Filtering QA pairs:  73%|███████▎  | 11/15 [01:43<00:36,  9.07s/it]"
     ]
    },
    {
     "name": "stdout",
     "output_type": "stream",
     "text": [
      "Question: How might the inhibition of organic anion transporters at the blood-brain barrier (BBB) by taurocholate contribute to the pharmacological and toxicological effects of bosentan, considering its impact on bile salt export and liver injury?\n",
      "LLM Answer: The inhibition of organic anion transporters (OATs) at the blood-brain barrier (BBB) by taurocholate...\n",
      "Correctness Score: 0.7\n",
      "Prompt: Answer this question with detailed information: How might the combined understanding of tegaserod's mechanism of action and the cholestatic drug delivery system enhance the therapeutic strategies for treating conditions involving serotonin dysregulation and hepatocellular carcinomas?\n"
     ]
    },
    {
     "name": "stderr",
     "output_type": "stream",
     "text": [
      "Filtering QA pairs:  80%|████████  | 12/15 [01:52<00:27,  9.26s/it]"
     ]
    },
    {
     "name": "stdout",
     "output_type": "stream",
     "text": [
      "Question: How might the combined understanding of tegaserod's mechanism of action and the cholestatic drug delivery system enhance the therapeutic strategies for treating conditions involving serotonin dysregulation and hepatocellular carcinomas?\n",
      "LLM Answer: To explore how the combined understanding of tegaserod's mechanism of action and the cholestatic dru...\n",
      "Correctness Score: 0.5\n",
      "Prompt: Answer this question with detailed information: How does the interaction of antiviral nucleoside analogs and diuretics with the organic anion transporter 1 (OAT1) in Xenopus laevis oocytes contribute to their pharmacokinetics, and what role does probenecid play in modulating this interaction?\n"
     ]
    },
    {
     "name": "stderr",
     "output_type": "stream",
     "text": [
      "Filtering QA pairs:  87%|████████▋ | 13/15 [01:58<00:16,  8.08s/it]"
     ]
    },
    {
     "name": "stdout",
     "output_type": "stream",
     "text": [
      "Question: How does the interaction of antiviral nucleoside analogs and diuretics with the organic anion transporter 1 (OAT1) in Xenopus laevis oocytes contribute to their pharmacokinetics, and what role does probenecid play in modulating this interaction?\n",
      "LLM Answer: The interaction of antiviral nucleoside analogs and diuretics with the organic anion transporter 1 (...\n",
      "Correctness Score: 0.8\n",
      "Prompt: Answer this question with detailed information: How does the co-administration of oral treprostinil and bosentan affect the pharmacokinetics of treprostinil, and what additional benefits might treprostinil offer in terms of cellular activity in PAH patients?\n"
     ]
    },
    {
     "name": "stderr",
     "output_type": "stream",
     "text": [
      "Filtering QA pairs:  93%|█████████▎| 14/15 [02:05<00:07,  7.85s/it]"
     ]
    },
    {
     "name": "stdout",
     "output_type": "stream",
     "text": [
      "Question: How does the co-administration of oral treprostinil and bosentan affect the pharmacokinetics of treprostinil, and what additional benefits might treprostinil offer in terms of cellular activity in PAH patients?\n",
      "LLM Answer: The co-administration of oral treprostinil and bosentan in patients with pulmonary arterial hyperten...\n",
      "Correctness Score: 0.3\n",
      "Prompt: Answer this question with detailed information: How might the co-administration of celecoxib and treprostinil diethanolamine affect prostanoid release and contractility in conditions involving ureteral obstruction and pulmonary arterial hypertension, considering their metabolic pathways and effects on prostanoid synthesis?\n"
     ]
    },
    {
     "name": "stderr",
     "output_type": "stream",
     "text": [
      "Filtering QA pairs: 100%|██████████| 15/15 [02:14<00:00,  8.94s/it]"
     ]
    },
    {
     "name": "stdout",
     "output_type": "stream",
     "text": [
      "Question: How might the co-administration of celecoxib and treprostinil diethanolamine affect prostanoid release and contractility in conditions involving ureteral obstruction and pulmonary arterial hypertension, considering their metabolic pathways and effects on prostanoid synthesis?\n",
      "LLM Answer: The co-administration of celecoxib and treprostinil diethanolamine can have significant effects on p...\n",
      "Correctness Score: 0.7\n",
      "Filtered to 4 QA pairs\n",
      "Saved filtered data to passage_output_2_filtered.gt\n"
     ]
    },
    {
     "name": "stderr",
     "output_type": "stream",
     "text": [
      "\n"
     ]
    }
   ],
   "source": [
    "# Load ground truth data\n",
    "print(f\"Loading ground truth data\")\n",
    "gt_data = load_ground_truth(OUTPUT_FILE)\n",
    "print(f\"Loaded {len(gt_data)} QA pairs\")\n",
    "\n",
    "# Filter pairs\n",
    "filtered_data = filter_qa_pairs(gt_data, 0.5)\n",
    "print(f\"Filtered to {len(filtered_data)} QA pairs\")\n",
    "\n",
    "filtered_output_file = OUTPUT_FILE.replace(\".gt\", \"_filtered.gt\")\n",
    "# Save filtered data\n",
    "save_filtered_data(filtered_data, filtered_output_file)\n",
    "print(f\"Saved filtered data to {filtered_output_file}\")\n",
    "\n",
    "# generate_llm_answer(\"What is the main target of the drug?\")"
   ]
  },
  {
   "cell_type": "code",
   "execution_count": null,
   "metadata": {},
   "outputs": [],
   "source": []
  }
 ],
 "metadata": {
  "kernelspec": {
   "display_name": "data_decomposer",
   "language": "python",
   "name": "python3"
  },
  "language_info": {
   "codemirror_mode": {
    "name": "ipython",
    "version": 3
   },
   "file_extension": ".py",
   "mimetype": "text/x-python",
   "name": "python",
   "nbconvert_exporter": "python",
   "pygments_lexer": "ipython3",
   "version": "3.10.16"
  }
 },
 "nbformat": 4,
 "nbformat_minor": 2
}
